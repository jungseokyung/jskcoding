{
 "cells": [
  {
   "cell_type": "markdown",
   "metadata": {},
   "source": [
    "## recipe 1 :문자열 연산"
   ]
  },
  {
   "cell_type": "markdown",
   "metadata": {},
   "source": [
    "#### join : 리스트를 지정한 문자열로 결합\n",
    "split :문자열을 지정 문자열을 기준으로 리스트로 분리\n",
    "덧셈 :문자열 연결\n",
    "곱셈 :문자열 반복"
   ]
  },
  {
   "cell_type": "code",
   "execution_count": 6,
   "metadata": {
    "scrolled": true
   },
   "outputs": [
    {
     "name": "stdout",
     "output_type": "stream",
     "text": [
      "<class 'str'> : 유나;지은;스튜어트;케빈\n",
      "<class 'list'> : ['우리', '강아지는', '소파', '위에서', '잔다']\n",
      "텍스트 덧셈 : 파이썬파이썬파이썬\n",
      "텍스트 곱셈 : 파이썬파이썬\n",
      "y\n",
      "L\n"
     ]
    }
   ],
   "source": [
    "namesList=['유나','지은','스튜어트','케빈']\n",
    "sentence='우리 강아지는 소파 위에서 잔다'\n",
    "\n",
    "names=';'.join(namesList)\n",
    "print(type(names),':',names)\n",
    "wordList=sentence.split(' ')\n",
    "print((type(wordList)),':',wordList)\n",
    "\n",
    "additionExample='파이썬'+'파이썬'+'파이썬'\n",
    "multiplicationExample='파이썬'*2\n",
    "print('텍스트 덧셈 :',additionExample)\n",
    "print('텍스트 곱셈 :',multiplicationExample)\n",
    "\n",
    "str_='Python NLTK'\n",
    "print(str_[1])\n",
    "print(str_[-3]) # -1,-2,-3... 이므로 L 이 나온다.\n",
    "\n"
   ]
  },
  {
   "cell_type": "markdown",
   "metadata": {},
   "source": [
    "## recipe 2: 문자열 연산 심화"
   ]
  },
  {
   "cell_type": "code",
   "execution_count": 8,
   "metadata": {},
   "outputs": [
    {
     "name": "stdout",
     "output_type": "stream",
     "text": [
      "다음의 인덱스에서 끝나는 부분 문자열:  NLTK\n",
      "다음의 인덱스에서 시작하는 부분 문자열: Python\n",
      "부분 문자열: Dolly\n",
      "복잡한 방식의 부분 문자열: Dolly\n",
      "NLTK를 찾았습니다.\n",
      "대체된 문자열: NLTK Dorothy Python\n",
      "각 문자(character) 액세스:\n",
      "N\n",
      "L\n",
      "T\n",
      "K\n",
      " \n",
      "D\n",
      "o\n",
      "r\n",
      "o\n",
      "t\n",
      "h\n",
      "y\n",
      " \n",
      "P\n",
      "y\n",
      "t\n",
      "h\n",
      "o\n",
      "n\n"
     ]
    }
   ],
   "source": [
    "str_='NLTK Dolly Python'\n",
    "print('다음의 인덱스에서 끝나는 부분 문자열: ',str_[:4])\n",
    "\n",
    "print('다음의 인덱스에서 시작하는 부분 문자열:',str_[11:])\n",
    "print('부분 문자열:',str_[5:10])\n",
    "print('복잡한 방식의 부분 문자열:',str_[-12:-7])\n",
    "\n",
    "if 'NLTK' in str_:\n",
    "    print('NLTK를 찾았습니다.')\n",
    "    \n",
    "replaced =str_.replace('Dolly','Dorothy')\n",
    "print('대체된 문자열:',replaced)\n",
    "\n",
    "print('각 문자(character) 액세스:')\n",
    "\n",
    "for s in replaced:\n",
    "    print(s)"
   ]
  },
  {
   "cell_type": "code",
   "execution_count": 10,
   "metadata": {
    "scrolled": true
   },
   "outputs": [
    {
     "name": "stdout",
     "output_type": "stream",
     "text": [
      "Collecting PyPDF2\n",
      "  Downloading https://files.pythonhosted.org/packages/b4/01/68fcc0d43daf4c6bdbc6b33cc3f77bda531c86b174cac56ef0ffdb96faab/PyPDF2-1.26.0.tar.gz (77kB)\n",
      "Building wheels for collected packages: PyPDF2\n",
      "  Running setup.py bdist_wheel for PyPDF2: started\n",
      "  Running setup.py bdist_wheel for PyPDF2: finished with status 'done'\n",
      "  Stored in directory: C:\\Users\\Jungsk\\AppData\\Local\\pip\\Cache\\wheels\\53\\84\\19\\35bc977c8bf5f0c23a8a011aa958acd4da4bbd7a229315c1b7\n",
      "Successfully built PyPDF2\n",
      "Installing collected packages: PyPDF2\n",
      "Successfully installed PyPDF2-1.26.0\n"
     ]
    },
    {
     "name": "stderr",
     "output_type": "stream",
     "text": [
      "distributed 1.21.8 requires msgpack, which is not installed.\n",
      "You are using pip version 10.0.1, however version 19.1.1 is available.\n",
      "You should consider upgrading via the 'python -m pip install --upgrade pip' command.\n"
     ]
    }
   ],
   "source": [
    "!pip install PyPDF2"
   ]
  },
  {
   "cell_type": "markdown",
   "metadata": {},
   "source": [
    "## recipe 3: PDF 파일읽기"
   ]
  },
  {
   "cell_type": "code",
   "execution_count": 16,
   "metadata": {},
   "outputs": [],
   "source": [
    "from PyPDF2 import PdfFileReader\n",
    "\n",
    "def getTextPDF(pdfFileName,password=''):\n",
    "    print(pdfFileName)\n",
    "    pdf_file=open(pdfFileName,'rb')\n",
    "    read_pdf=PdfFileReader(pdf_file)\n",
    "    \n",
    "    if password !='':\n",
    "        read_pdf.decrypt(password)\n",
    "    text=[]\n",
    "    for i in range(0,read_pdf.getNumPages()):\n",
    "        text.append(read_pdf.getPage(i).extractText())\n",
    "    return '\\n'.join(text)"
   ]
  },
  {
   "cell_type": "code",
   "execution_count": 12,
   "metadata": {},
   "outputs": [
    {
     "name": "stderr",
     "output_type": "stream",
     "text": [
      "distributed 1.21.8 requires msgpack, which is not installed.\n",
      "You are using pip version 10.0.1, however version 19.1.1 is available.\n",
      "You should consider upgrading via the 'python -m pip install --upgrade pip' command.\n"
     ]
    }
   ],
   "source": [
    "!pip install -U -q PyDrive"
   ]
  },
  {
   "cell_type": "markdown",
   "metadata": {},
   "source": [
    "## 구글 드라이브 파일 읽기"
   ]
  },
  {
   "cell_type": "code",
   "execution_count": 19,
   "metadata": {
    "scrolled": true
   },
   "outputs": [
    {
     "ename": "ModuleNotFoundError",
     "evalue": "No module named 'google.colab'",
     "output_type": "error",
     "traceback": [
      "\u001b[1;31m---------------------------------------------------------------------------\u001b[0m",
      "\u001b[1;31mModuleNotFoundError\u001b[0m                       Traceback (most recent call last)",
      "\u001b[1;32m<ipython-input-19-df2e0343fc84>\u001b[0m in \u001b[0;36m<module>\u001b[1;34m()\u001b[0m\n\u001b[0;32m      1\u001b[0m \u001b[1;32mfrom\u001b[0m \u001b[0mpydrive\u001b[0m\u001b[1;33m.\u001b[0m\u001b[0mauth\u001b[0m \u001b[1;32mimport\u001b[0m \u001b[0mGoogleAuth\u001b[0m\u001b[1;33m\u001b[0m\u001b[0m\n\u001b[0;32m      2\u001b[0m \u001b[1;32mfrom\u001b[0m \u001b[0mpydrive\u001b[0m\u001b[1;33m.\u001b[0m\u001b[0mdrive\u001b[0m \u001b[1;32mimport\u001b[0m \u001b[0mGoogleDrive\u001b[0m\u001b[1;33m\u001b[0m\u001b[0m\n\u001b[1;32m----> 3\u001b[1;33m \u001b[1;32mfrom\u001b[0m \u001b[0mgoogle\u001b[0m\u001b[1;33m.\u001b[0m\u001b[0mcolab\u001b[0m \u001b[1;32mimport\u001b[0m \u001b[0mauth\u001b[0m\u001b[1;33m\u001b[0m\u001b[0m\n\u001b[0m\u001b[0;32m      4\u001b[0m \u001b[1;32mfrom\u001b[0m \u001b[0moauth2client\u001b[0m\u001b[1;33m.\u001b[0m\u001b[0mclient\u001b[0m \u001b[1;32mimport\u001b[0m \u001b[0mGoogleCredentials\u001b[0m\u001b[1;33m\u001b[0m\u001b[0m\n\u001b[0;32m      5\u001b[0m \u001b[1;31m#Authenticate and create the PyDrive client.\u001b[0m\u001b[1;33m\u001b[0m\u001b[1;33m\u001b[0m\u001b[0m\n",
      "\u001b[1;31mModuleNotFoundError\u001b[0m: No module named 'google.colab'"
     ]
    }
   ],
   "source": [
    "from pydrive.auth import GoogleAuth\n",
    "from pydrive.drive import GoogleDrive\n",
    "from google.colab import auth\n",
    "from oauth2client.client import GoogleCredentials\n",
    "#Authenticate and create the PyDrive client.\n",
    "auth.authenticate_user()\n",
    "gauth=GoogleAuth()\n",
    "gauth.credentials =GoogleCredentials.get_application_default()\n",
    "drive=GoogleDrive(gauth)"
   ]
  },
  {
   "cell_type": "markdown",
   "metadata": {},
   "source": [
    "## recipe 5: txt, pdf, docs 파일 변환하여 코퍼스 생성"
   ]
  },
  {
   "cell_type": "code",
   "execution_count": 23,
   "metadata": {},
   "outputs": [],
   "source": [
    "import os\n",
    "from nltk.corpus.reader.plaintext import PlaintextCorpusReader\n",
    "import nltk\n",
    "\n",
    "nltk.download('punkt')\n",
    "\n",
    "def getText(txtFileName):\n",
    "    file=open(txtFileName,'r')\n",
    "    return file.read()\n",
    "\n",
    "newCorpusDir = 'mycorpus/'\n",
    "if not os.path.isdir(newCorpusDir):\n",
    "    "
   ]
  },
  {
   "cell_type": "code",
   "execution_count": null,
   "metadata": {},
   "outputs": [],
   "source": []
  },
  {
   "cell_type": "code",
   "execution_count": 17,
   "metadata": {
    "scrolled": true
   },
   "outputs": [
    {
     "name": "stdout",
     "output_type": "stream",
     "text": [
      "Collecting python-docx\n",
      "  Downloading https://files.pythonhosted.org/packages/e4/83/c66a1934ed5ed8ab1dbb9931f1779079f8bca0f6bbc5793c06c4b5e7d671/python-docx-0.8.10.tar.gz (5.5MB)\n",
      "Requirement already satisfied: lxml>=2.3.2 in c:\\programdata\\anaconda3\\lib\\site-packages (from python-docx) (4.2.1)\n",
      "Building wheels for collected packages: python-docx\n",
      "  Running setup.py bdist_wheel for python-docx: started\n",
      "  Running setup.py bdist_wheel for python-docx: finished with status 'done'\n",
      "  Stored in directory: C:\\Users\\Jungsk\\AppData\\Local\\pip\\Cache\\wheels\\18\\0b\\a0\\1dd62ff812c857c9e487f27d80d53d2b40531bec1acecfa47b\n",
      "Successfully built python-docx\n",
      "Installing collected packages: python-docx\n",
      "Successfully installed python-docx-0.8.10\n"
     ]
    },
    {
     "name": "stderr",
     "output_type": "stream",
     "text": [
      "distributed 1.21.8 requires msgpack, which is not installed.\n",
      "You are using pip version 10.0.1, however version 19.1.1 is available.\n",
      "You should consider upgrading via the 'python -m pip install --upgrade pip' command.\n"
     ]
    }
   ],
   "source": [
    "!pip install python-docx"
   ]
  },
  {
   "cell_type": "markdown",
   "metadata": {},
   "source": [
    "## recipe 6: RSS feed"
   ]
  },
  {
   "cell_type": "code",
   "execution_count": 20,
   "metadata": {},
   "outputs": [
    {
     "name": "stdout",
     "output_type": "stream",
     "text": [
      "Collecting feedparser\n",
      "  Downloading https://files.pythonhosted.org/packages/91/d8/7d37fec71ff7c9dbcdd80d2b48bcdd86d6af502156fc93846fb0102cb2c4/feedparser-5.2.1.tar.bz2 (192kB)\n",
      "Building wheels for collected packages: feedparser\n",
      "  Running setup.py bdist_wheel for feedparser: started\n",
      "  Running setup.py bdist_wheel for feedparser: finished with status 'done'\n",
      "  Stored in directory: C:\\Users\\Jungsk\\AppData\\Local\\pip\\Cache\\wheels\\8c\\69\\b7\\f52763c41c5471df57703a0ef718a32a5e81ee35dcf6d4f97f\n",
      "Successfully built feedparser\n",
      "Installing collected packages: feedparser\n",
      "Successfully installed feedparser-5.2.1\n"
     ]
    },
    {
     "name": "stderr",
     "output_type": "stream",
     "text": [
      "distributed 1.21.8 requires msgpack, which is not installed.\n",
      "You are using pip version 10.0.1, however version 19.1.1 is available.\n",
      "You should consider upgrading via the 'python -m pip install --upgrade pip' command.\n"
     ]
    }
   ],
   "source": [
    "!pip install feedparser"
   ]
  },
  {
   "cell_type": "code",
   "execution_count": 21,
   "metadata": {},
   "outputs": [
    {
     "name": "stdout",
     "output_type": "stream",
     "text": [
      "피드 제목: Mashable\n",
      "포스트 수: 30\n",
      "포스트 제목: Everything you need to know about Amazon Prime for Australia\n",
      "콘텐츠 원본:\n",
      " <img alt=\"\" src=\"https://mondrian.mashable.com/uploads%252Fcard%252Fimage%252F1008660%252Fc07f261b-6976-4e54-b610-407897d6ca56.jpg%252F575x323__filters%253Aquality%252880%2529.jpg?signature=ePOOeg4URuno32qUgZRMNcmZWus=&amp;source=https%3A%2F%2Fblueprint-api-production.s3.amazonaws.com\" /><div style=\"float: right; width: 50px;\"><a href=\"https://twitter.com/share?via=Mashable&text=Everything+you+need+to+know+about+Amazon+Prime+for+Australia&url=https%3A%2F%2Fmashable.com%2Fshopping%2Feverything-about-amazon-prime-australia%2F\" style=\"margin: 10px;\"><img alt=\"Twitter\" border=\"0\" src=\"https://a.amz.mshcdn.com/assets/feed-tw-e71baf64f2ec58d01cd28f4e9ef6b2ce0370b42fbd965068e9e7b58be198fb13.jpg\" /></a><a href=\"https://www.facebook.com/sharer.php?u=https%3A%2F%2Fmashable.com%2Fshopping%2Feverything-about-amazon-prime-australia%2F&src=sp\" style=\"margin: 10px;\"><img alt=\"Facebook\" border=\"0\" src=\"https://a.amz.mshcdn.com/assets/feed-fb-8e3bd31e201ea65385a524ef67519d031e6851071807055648790d6a4ca77139.jpg\" /></a></div><p>Although it's been long enjoyed and fretted over across the globe, Australians had been anticipating the arrival of Amazon's <a href=\"https://www.amazon.com.au/l/5602577051/ref=as_li_ss_tl?ie=UTF8&amp;linkCode=sl2&amp;linkId=a79ba790a8b9eba1cd729082a9dcf913&amp;tag=mashable0c-20&amp;tag=mashableau-22\" class=\"product-url\" rel=\"noskim\">Prime Day</a> for quite some time &#8212; and now, it's officially part of the calendar.</p>\n",
      "<p>Following the event's 2018 debut, Amazon is bringing Prime Day back to Australia, as part of its signature worldwide shopping marathon. Being ahead of the timezone, Aussie Prime members will get first access to some pretty epic deals.&#160;</p>\n",
      "<p>Prime members get fast and free delivery, a range of entertainment options, early access to content as well as tonnes of deals and events like the much-anticipated Prime Day. This is all provided through an annual or monthly subscription &#8212; and so far, there&#8217;s more than 100 million paid members around the globe. <a href=\"https://mashable.com/shopping/everything-about-amazon-prime-australia/\">Read more...</a></p>More about <a href=\"https://mashable.com/category/amazon/?utm_campaign=Mash-Prod-RSS-Feedburner-All-Partial&amp;utm_cid=Mash-Prod-RSS-Feedburner-All-Partial\">Amazon</a>, <a href=\"https://mashable.com/category/prime-day/?utm_campaign=Mash-Prod-RSS-Feedburner-All-Partial&amp;utm_cid=Mash-Prod-RSS-Feedburner-All-Partial\">Prime Day</a>, <a href=\"https://mashable.com/category/amazon-prime-day/?utm_campaign=Mash-Prod-RSS-Feedburner-All-Partial&amp;utm_cid=Mash-Prod-RSS-Feedburner-All-Partial\">Amazon Prime Day</a>, <a href=\"https://mashable.com/category/online-shopping/?utm_campaign=Mash-Prod-RSS-Feedburner-All-Partial&amp;utm_cid=Mash-Prod-RSS-Feedburner-All-Partial\">Online Shopping</a>, and <a href=\"https://mashable.com/category/mashable-shopping/?utm_campaign=Mash-Prod-RSS-Feedburner-All-Partial&amp;utm_cid=Mash-Prod-RSS-Feedburner-All-Partial\">Mashable Shopping</a><img src=\"http://feeds.feedburner.com/~r/Mashable/~4/uHpU-WEIPyg\" height=\"1\" width=\"1\" alt=\"\"/>\n"
     ]
    }
   ],
   "source": [
    "import feedparser\n",
    "\n",
    "myFeed = feedparser.parse(\"http://feeds.mashable.com/Mashable\")\n",
    "print('피드 제목:',myFeed['feed']['title'])\n",
    "print('포스트 수:',len(myFeed.entries))\n",
    "post=myFeed.entries[0]\n",
    "print('포스트 제목:',post.title)\n",
    "content=post.content[0].value\n",
    "print('콘텐츠 원본:\\n',content)"
   ]
  },
  {
   "cell_type": "code",
   "execution_count": 24,
   "metadata": {},
   "outputs": [],
   "source": [
    "myFeed?"
   ]
  },
  {
   "cell_type": "markdown",
   "metadata": {},
   "source": [
    "## recipe 1 "
   ]
  },
  {
   "cell_type": "markdown",
   "metadata": {},
   "source": [
    "#####   ? : 물음표는 0번 또는 1차례까지의 발생을 의미.\n",
    "     * : 별표는 0번 이상의 발생을 의미.\n",
    "     + : 덧셈 기호는 1번 ㅇ시ㅏㅇ의 \n",
    "     {n} : 정확히 n번 만큼 일치시킨다.\n",
    "     {min} : min번 이상만큼 일치시킨다.\n",
    "     {min,max} :적어도 min번 만큼 일치시키지만,max 번을 초과하여 일치시키지 않는다."
   ]
  },
  {
   "cell_type": "code",
   "execution_count": 28,
   "metadata": {},
   "outputs": [
    {
     "name": "stdout",
     "output_type": "stream",
     "text": [
      "일치하는 항목을 찾았습니다!\n",
      "일치하는 항목을 찾았습니다!\n",
      "일치하는 항목을 찾았습니다!\n",
      "일치하는 항목을 찾았습니다!\n",
      "일치하는 항목을 찾았습니다!\n",
      "일치하는 항목을 찾았습니다!\n",
      "일치하지 않음!\n",
      "일치하는 항목을 찾았습니다!\n",
      "일치하는 항목을 찾았습니다!\n",
      "일치하는 항목을 찾았습니다!\n",
      "일치하는 항목을 찾았습니다!\n"
     ]
    }
   ],
   "source": [
    "import re\n",
    "def text_match(text,patterns):\n",
    "    if re.search(patterns, text):\n",
    "        return('일치하는 항목을 찾았습니다!')\n",
    "    else :\n",
    "        return ('일치하지 않음!')\n",
    "    \n",
    "print(text_match(\"ac\",\"ab?\"))\n",
    "print(text_match(\"abc\",\"ab?\"))\n",
    "print(text_match(\"abbc\",\"ab?\"))\n",
    "\n",
    "print(text_match(\"ac\",\"ab*\"))\n",
    "print(text_match(\"abc\",\"ab*\"))\n",
    "print(text_match(\"abbc\",\"ab*\"))\n",
    "\n",
    "print(text_match(\"ac\",\"ab+\"))\n",
    "print(text_match(\"abc\",\"ab+\"))\n",
    "print(text_match(\"abbc\",\"ab+\"))\n",
    "\n",
    "print(text_match(\"abbc\",\"ab{2}\")) #ab{2} = abb 의미\n",
    "print(text_match(\"aabbbbbbc\",\"ab{3,5}?\")) # 3번에서 5번 등장. 아예 등장하지 않거나..!!"
   ]
  },
  {
   "cell_type": "markdown",
   "metadata": {},
   "source": [
    "## recipe 2 "
   ]
  },
  {
   "cell_type": "markdown",
   "metadata": {},
   "source": [
    "##### ^ :문자열이나 행의 처음\n",
    "       $ : 문자열이나 행의 끝을 의미.\n",
    "       .: 1개의 문자와 일치한다. 단일행 모드에서는 새줄 문자를 제외한다.\n",
    "       \\W :\"[A-Za-z0-9]\" =영숫자 +\"_\"\n",
    "       \\S : \"[^/7/r/n/v/f\"] = 공백이 아닌 모든 문자\n",
    "       \\B : 문자와 공백사이가 아닌 문자를 의미\n",
    "       =중간에 껴있는 문자를 의미.\n",
    "       \\Bu\\B : u가 중간에 껴 있는 경우를 의미."
   ]
  },
  {
   "cell_type": "markdown",
   "metadata": {},
   "source": [
    "#####  ? : 0,1 번 발생\n",
    "    * : 0번 이상\n",
    "    + : 1번 이상\n",
    "    {n} :정확히 n번\n",
    "    {min,} : min번 이상만큼\n",
    "    {min,max} : 적어도 \"min\"번 만큼 일치, max 번 초과X."
   ]
  },
  {
   "cell_type": "code",
   "execution_count": 32,
   "metadata": {},
   "outputs": [
    {
     "name": "stdout",
     "output_type": "stream",
     "text": [
      "테스트 패턴은 다음으로 시작하고 끝남\n",
      "일치하는 항목을 찾았습니다.\n",
      "단어로 시작함\n",
      "일치하는 항목을 찾았습니다.\n",
      "단어와 선택적 문장부호로 끝남\n",
      "일치하는 항목을 찾았습니다.\n",
      "단어의 시작이나 끝이 아닌 문자가 포함된 단어 찾기\n",
      "일치하는 항목을 찾았습니다.\n"
     ]
    }
   ],
   "source": [
    "import re\n",
    "\n",
    "def text_match(text,patterns):\n",
    "    if re.search(patterns,text):\n",
    "        return ('일치하는 항목을 찾았습니다.')\n",
    "    else:\n",
    "        return('일치하지 않음!')\n",
    "    \n",
    "print(\"테스트 패턴은 다음으로 시작하고 끝남\")\n",
    "print(text_match(\"abbbbbc\",\"^a.*c$\"))\n",
    "\n",
    "print(\"단어로 시작함\")\n",
    "print(text_match(\"Tuffy eats pie, Loki eats peas!\",\"^\\w+\"))\n",
    "\n",
    "print(\"단어와 선택적 문장부호로 끝남\")\n",
    "print(text_match(\"Tuffy eats pie, Loki eats peas!\",\"\\w+\\S*?$\"))\n",
    "#마지막 ($) 에서, 특수문자  (S): 공백이 아닌, 모든 문자..!!!!\n",
    "#! 를 , 지워도, OK.\n",
    "\n",
    "print(\"단어의 시작이나 끝이 아닌 문자가 포함된 단어 찾기\")\n",
    "print(text_match(\"Tuffy eats pie, Loki eats peas!\",\"\\Bu\\B\"))\n",
    "#\\b e 하면, 알파벳 e 가 있고? 공백인것..??!!"
   ]
  },
  {
   "cell_type": "markdown",
   "metadata": {},
   "source": [
    "## recipe 3"
   ]
  },
  {
   "cell_type": "code",
   "execution_count": 37,
   "metadata": {
    "collapsed": true
   },
   "outputs": [
    {
     "name": "stdout",
     "output_type": "stream",
     "text": [
      "\"Tuffy eats pie, Loki eats peas!\"에서 \"f\"검색 중->\n",
      "찾았습니다!\n",
      "\"Tuffy eats pie, Loki eats peas!\"에서 \"e\"검색 중->\n",
      "찾았습니다!\n",
      "\"Tuffy eats pie, Loki eats peas!\"에서 \"s\"검색 중->\n",
      "찾았습니다!\n",
      "\"Tuffy eats pie, Loki eats peas!\"에서 \"t\"검색 중->\n",
      "찾았습니다!\n",
      "\"Tuffy eats pie, Loki eats peas!\"에서 \"i\"검색 중->\n",
      "찾았습니다!\n",
      "\"Tuffy eats pie, Loki eats peas!\"에서 \"v\"검색 중->\n",
      "찾을 수 없습니다!\n",
      "\"Tuffy eats pie, Loki eats peas!\"에서 \"a\"검색 중->\n",
      "찾았습니다!\n",
      "\"Tuffy eats pie, Loki eats peas!\"에서 \"l\"검색 중->\n",
      "찾을 수 없습니다!\n",
      "4:5에서 \"l\"을(를) 찾았습니다.\n",
      "19:20에서 \"l\"을(를) 찾았습니다.\n",
      "24:25에서 \"l\"을(를) 찾았습니다.\n",
      "34:35에서 \"l\"을(를) 찾았습니다.\n",
      "49:50에서 \"l\"을(를) 찾았습니다.\n",
      "56:57에서 \"l\"을(를) 찾았습니다.\n"
     ]
    }
   ],
   "source": [
    "import re\n",
    "\n",
    "#search for literal strings in sentence\n",
    "pattern=['Tuffy','Pie','Loki']\n",
    "text='Tuffy eats pie, Loki eats peas!'\n",
    "\n",
    "for pattern in patterns:\n",
    "    print('\"%s\"에서 \"%s\"검색 중->'%(text,pattern),)\n",
    "    if re.search(pattern,text):\n",
    "        print('찾았습니다!')\n",
    "    else:\n",
    "        print('찾을 수 없습니다!')\n",
    "        \n",
    "#search a substring and find it's location too\n",
    "\n",
    "text='Diwali is a festival of lights, Holi is a festival of colors!'\n",
    "patterns = 'festival'\n",
    "\n",
    "for match in re.finditer(pattern,text):\n",
    "    s=match.start()\n",
    "    e=match.end()\n",
    "    print('%d:%d에서 \"%s\"을(를) 찾았습니다.' %(s,e,text[s:e]))"
   ]
  },
  {
   "cell_type": "code",
   "execution_count": 40,
   "metadata": {},
   "outputs": [],
   "source": [
    "?re.finditer"
   ]
  },
  {
   "cell_type": "markdown",
   "metadata": {},
   "source": [
    "## recipe 4"
   ]
  },
  {
   "cell_type": "markdown",
   "metadata": {},
   "source": [
    "##### (x) : 그룹을 표현하며, x를 그룹으로 처리함을 의미\n",
    "(x) (y) : 그룹들의 집합을 표현하며 앞에서부터 순서대로 번호를 부여하여 관리하고 x, y는 는 데이터\n",
    "\n",
    "\n",
    "[xy]:문자 선택을 표현하며 x와 y중에 하나를 의미.\n",
    "\n",
    "\n",
    "\\d : '숫자'를 의미.\n",
    "\n",
    "^ : not 을 의미.   [^not의 뜻]\n",
    "\n",
    "^ : 시작을 의미.   ^[어쩌구저쩌구]"
   ]
  },
  {
   "cell_type": "code",
   "execution_count": 44,
   "metadata": {},
   "outputs": [
    {
     "name": "stdout",
     "output_type": "stream",
     "text": [
      "URL에서 찾은 날짜 : [('2018', '10', '28')]\n",
      "True\n",
      "False\n"
     ]
    }
   ],
   "source": [
    "import re\n",
    "\n",
    "url=\"http://www.telegraph.co.uk/formula-1/2018/10/28/mexican-grand-prix-2017-time-does-start-tv-chanr\"\n",
    "date_regex = '/(\\d{4})/(\\d{1,2})/(\\d{1,2})/'\n",
    "\n",
    "print(\"URL에서 찾은 날짜 :\",re.findall(date_regex,url))\n",
    "\n",
    "def is_allowed_specific_char(string):\n",
    "    charRe = re.compile(r'[^a-zA-Z0-9.]')\n",
    "    string=charRe.search(string)\n",
    "    return not bool(string)\n",
    "\n",
    "print(is_allowed_specific_char(\"ABCDEFabdef123450.\"))\n",
    "print(is_allowed_specific_char(\"*&%@#!}{\"))"
   ]
  },
  {
   "cell_type": "code",
   "execution_count": 47,
   "metadata": {},
   "outputs": [],
   "source": [
    "re.findall?"
   ]
  },
  {
   "cell_type": "code",
   "execution_count": 42,
   "metadata": {},
   "outputs": [],
   "source": [
    "re.compile?"
   ]
  },
  {
   "cell_type": "markdown",
   "metadata": {},
   "source": [
    "## recipe 5"
   ]
  },
  {
   "cell_type": "code",
   "execution_count": 46,
   "metadata": {},
   "outputs": [
    {
     "name": "stdout",
     "output_type": "stream",
     "text": [
      "21 Teheran Rd\n",
      "['light', 'color']\n"
     ]
    }
   ],
   "source": [
    "import re\n",
    "\n",
    "street='21 Teheran Road'\n",
    "print(re.sub('Road','Rd',street))\n",
    "\n",
    "text='Diwali is a festival of light, Holi is a festival of color!'\n",
    "print(re.findall(r\"\\b\\w{5}\\b\",text)) # b: 양쪽에 있으므로. 양쪽 공백\n",
    " # w 숫자, 문자, 이고, 대괄호 5 {5}: 등장하는 횟수 등장..!!!"
   ]
  },
  {
   "cell_type": "markdown",
   "metadata": {},
   "source": [
    "## recipe 6"
   ]
  },
  {
   "cell_type": "code",
   "execution_count": 50,
   "metadata": {},
   "outputs": [
    {
     "name": "stdout",
     "output_type": "stream",
     "text": [
      "['I', 'am', 'big!', \"It's\", 'the', 'pictures', 'that', 'got', 'small.']\n",
      "['I', 'am', 'big', '', 'It', 's', 'the', 'pictures', 'that', 'got', 'small', '']\n",
      "['I', 'am', 'big', '!', 'It', \"'s\", 'the', 'pictures', 'that', 'got', 'small', '.']\n"
     ]
    }
   ],
   "source": [
    "import re\n",
    "\n",
    "raw=\"I am big! It's the pictures that got small.\"\n",
    "\n",
    "print(re.split(r' +',raw)) #공백이 1번 이상 등장했을 때.\n",
    "\n",
    "print(re.split(r'\\W',raw)) #대문자 \\W :단어가 아닌 문자.\n",
    "\n",
    "print(re.findall(r'\\w+|\\S\\w*',raw)) # \\w :영문&숫자 로 이뤄진 것들. 과, \n",
    "\n",
    "#\\S :\\w  \n",
    "#\\S : 공백이 아닌 모든 문자.\n",
    "#\\w : 영숫자.\n",
    "\n",
    "#대소문자는 서로 반대의 의미."
   ]
  },
  {
   "cell_type": "markdown",
   "metadata": {},
   "source": [
    "## recipe 7"
   ]
  },
  {
   "cell_type": "code",
   "execution_count": 54,
   "metadata": {},
   "outputs": [
    {
     "name": "stdout",
     "output_type": "stream",
     "text": [
      "['Keep', 'your', 'firends', 'close', ',', 'but', 'your', 'enemies', 'closer', '.']\n",
      "'Keep'\n",
      "'your'\n",
      "'firend'\n",
      "'close'\n",
      "','\n",
      "'but'\n",
      "'your'\n",
      "'enem'\n",
      "'closer'\n",
      "'.'\n"
     ]
    }
   ],
   "source": [
    "import re\n",
    "\n",
    "# . : 1번 이상 등장\n",
    "# *: 0 , 1 , 발생하거나 안하는듯. 없는 경우, 에러가 나게 하기 위해서는..!!\n",
    "# ? : 0이상 모든 것.\n",
    "\n",
    "def stem(word):\n",
    "    splits=re.findall(r'^(.*?)(ing|ly|ed|ious|ies|ive|es|s|ment)?$',word)\n",
    "    stem=splits[0][0]\n",
    "    return stem\n",
    "raw=\"Keep your firends close, but your enemies closer.\"\n",
    "tokens=re.findall(r'\\w+|\\S\\w*',raw)\n",
    "print(tokens)\n",
    "\n",
    "for t in tokens:\n",
    "    print(\"'\"+stem(t)+\"'\")"
   ]
  },
  {
   "cell_type": "code",
   "execution_count": null,
   "metadata": {},
   "outputs": [],
   "source": []
  }
 ],
 "metadata": {
  "kernelspec": {
   "display_name": "Python 3",
   "language": "python",
   "name": "python3"
  },
  "language_info": {
   "codemirror_mode": {
    "name": "ipython",
    "version": 3
   },
   "file_extension": ".py",
   "mimetype": "text/x-python",
   "name": "python",
   "nbconvert_exporter": "python",
   "pygments_lexer": "ipython3",
   "version": "3.6.5"
  }
 },
 "nbformat": 4,
 "nbformat_minor": 2
}
