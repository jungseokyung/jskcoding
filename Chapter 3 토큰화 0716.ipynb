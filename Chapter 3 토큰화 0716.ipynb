{
 "cells": [
  {
   "cell_type": "markdown",
   "metadata": {},
   "source": [
    "## chapter 3"
   ]
  },
  {
   "cell_type": "markdown",
   "metadata": {},
   "source": [
    "### recipe 1: 토큰화 "
   ]
  },
  {
   "cell_type": "markdown",
   "metadata": {},
   "source": [
    "#### NLTK tokenizer 비교"
   ]
  },
  {
   "cell_type": "markdown",
   "metadata": {},
   "source": [
    "#### Line Tokenizer :  /n 기준"
   ]
  },
  {
   "cell_type": "markdown",
   "metadata": {},
   "source": [
    "#### Space Tokenizer : 공백"
   ]
  },
  {
   "cell_type": "markdown",
   "metadata": {},
   "source": [
    "#### Tweet Tokenizer : 트위터에 특화 . 이모티콘 하나도 토큰으로 인지"
   ]
  },
  {
   "cell_type": "markdown",
   "metadata": {},
   "source": [
    "#### Word_Tokenizer : 단어 기준 토큰화"
   ]
  },
  {
   "cell_type": "code",
   "execution_count": 3,
   "metadata": {},
   "outputs": [
    {
     "name": "stdout",
     "output_type": "stream",
     "text": [
      "[nltk_data] Downloading package punkt to\n",
      "[nltk_data]     C:\\Users\\Jungsk\\AppData\\Roaming\\nltk_data...\n",
      "[nltk_data]   Package punkt is already up-to-date!\n",
      "Line tokenizer 출력:   ['My name is Maximus Decimus Meridius']\n",
      "Space Tokenizer 출력 :  ['By', '11', \"o'clock\", 'on', 'Sunday,', 'the', 'doctor', 'shall', 'open', 'the', 'dispensary.']\n",
      "Word Tokenizer 출력 : ['By', '11', \"o'clock\", 'on', 'Sunday', ',', 'the', 'doctor', 'shall', 'open', 'the', 'dispensary', '.']\n",
      "Tweet Tokenizer 출력 :  ['This', 'is', 'a', 'cooool', '#dummysmile', ':']\n"
     ]
    }
   ],
   "source": [
    "import nltk\n",
    "nltk.download('punkt')\n",
    "from nltk.tokenize import LineTokenizer,SpaceTokenizer,TweetTokenizer\n",
    "from nltk import word_tokenize\n",
    "\n",
    "lTokenizer=LineTokenizer();\n",
    "\n",
    "print(\"Line tokenizer 출력:  \", lTokenizer.tokenize(\"My name is Maximus Decimus Meridius\"))\n",
    "\n",
    "rawText=\"By 11 o'clock on Sunday, the doctor shall open the dispensary.\"\n",
    "\n",
    "sTokenizer = SpaceTokenizer()\n",
    "\n",
    "print(\"Space Tokenizer 출력 : \", sTokenizer.tokenize(rawText))\n",
    "print(\"Word Tokenizer 출력 :\",word_tokenize(rawText))\n",
    "\n",
    "tTokenizer=TweetTokenizer()\n",
    "\n",
    "print(\"Tweet Tokenizer 출력 : \",tTokenizer.tokenize(\"This is a cooool #dummysmile :\"))\n"
   ]
  },
  {
   "cell_type": "markdown",
   "metadata": {},
   "source": [
    "### reciepe 2: 어간 추출"
   ]
  },
  {
   "cell_type": "code",
   "execution_count": 5,
   "metadata": {},
   "outputs": [
    {
     "name": "stdout",
     "output_type": "stream",
     "text": [
      "['My', 'name', 'is', 'maximu', 'decimu', 'meridiu', ',', 'command', 'of', 'the', 'armi', 'of', 'the', 'north']\n",
      "['my', 'nam', 'is', 'maxim', 'decim', 'meridi', ',', 'command', 'of', 'the', 'army', 'of', 'the', 'nor']\n"
     ]
    }
   ],
   "source": [
    "from nltk import PorterStemmer, LancasterStemmer, word_tokenize\n",
    "\n",
    "raw=\"My name is Maximus Decimus Meridius, commander of the Armies of the North\"\n",
    "tokens= word_tokenize(raw)\n",
    "\n",
    "porter=PorterStemmer()\n",
    "pStems = [porter.stem(t) for t in tokens]\n",
    "print(pStems)\n",
    "\n",
    "lancaster =LancasterStemmer()\n",
    "lStems = [lancaster.stem(t) for t in tokens]\n",
    "print(lStems)"
   ]
  },
  {
   "cell_type": "markdown",
   "metadata": {},
   "source": [
    "### recipe 3 : 표제어 추출 -Lemmatization"
   ]
  },
  {
   "cell_type": "markdown",
   "metadata": {},
   "source": [
    "#### 사전에 기반한 표제어 추출. 품사 정보를 보존하여 표준화 하는 작업 사전에 등록되지 않은 단어는 표준화되지 않는 문제점이 있음."
   ]
  },
  {
   "cell_type": "code",
   "execution_count": 9,
   "metadata": {},
   "outputs": [
    {
     "name": "stdout",
     "output_type": "stream",
     "text": [
      "[nltk_data] Downloading package wordnet to\n",
      "[nltk_data]     C:\\Users\\Jungsk\\AppData\\Roaming\\nltk_data...\n",
      "[nltk_data]   Package wordnet is already up-to-date!\n",
      "['My', 'name', 'is', 'maximu', 'decimu', 'meridiu', ',', 'command', 'of', 'the', 'armi', 'of', 'the', 'north']\n",
      "['My', 'name', 'is', 'Maximus', 'Decimus', 'Meridius', ',', 'commander', 'of', 'the', 'army', 'of', 'the', 'north']\n"
     ]
    }
   ],
   "source": [
    "import nltk\n",
    "nltk.download('wordnet')\n",
    "from nltk import word_tokenize,PorterStemmer,WordNetLemmatizer\n",
    "\n",
    "raw=\"My name is Maximus Decimus Meridius, commander of the armies of the north\"\n",
    "tokens=word_tokenize(raw)\n",
    "\n",
    "porter=PorterStemmer()\n",
    "stems=[porter.stem(t) for t in tokens]\n",
    "print(stems)\n",
    "\n",
    "lemmatizer = WordNetLemmatizer()\n",
    "lemmas =[lemmatizer.lemmatize(t) for t in tokens]\n",
    "print(lemmas)"
   ]
  },
  {
   "cell_type": "markdown",
   "metadata": {},
   "source": [
    "###  recipe 4 : 불용어 처리"
   ]
  },
  {
   "cell_type": "markdown",
   "metadata": {},
   "source": [
    "#### 사용하지 않는 불필요한 단어들을 제거..1!"
   ]
  },
  {
   "cell_type": "code",
   "execution_count": 10,
   "metadata": {},
   "outputs": [
    {
     "name": "stdout",
     "output_type": "stream",
     "text": [
      "[nltk_data] Downloading package gutenberg to\n",
      "[nltk_data]     C:\\Users\\Jungsk\\AppData\\Roaming\\nltk_data...\n",
      "[nltk_data]   Unzipping corpora\\gutenberg.zip.\n",
      "[nltk_data] Downloading package stopwords to\n",
      "[nltk_data]     C:\\Users\\Jungsk\\AppData\\Roaming\\nltk_data...\n",
      "[nltk_data]   Unzipping corpora\\stopwords.zip.\n",
      "['austen-emma.txt', 'austen-persuasion.txt', 'austen-sense.txt', 'bible-kjv.txt', 'blake-poems.txt', 'bryant-stories.txt', 'burgess-busterbrown.txt', 'carroll-alice.txt', 'chesterton-ball.txt', 'chesterton-brown.txt', 'chesterton-thursday.txt', 'edgeworth-parents.txt', 'melville-moby_dick.txt', 'milton-paradise.txt', 'shakespeare-caesar.txt', 'shakespeare-hamlet.txt', 'shakespeare-macbeth.txt', 'whitman-leaves.txt']\n",
      "Following are the most common 10 words in the bag\n",
      "[(',', 70509), ('the', 62103), (':', 43766), ('and', 38847), ('of', 34480), ('.', 26160), ('to', 13396), ('And', 12846), ('that', 12576), ('in', 12331)]\n",
      "Following are the most common 10 words in the bag minus the stopwords\n",
      "[('shall', 9838), ('unto', 8997), ('lord', 7964), ('thou', 5474), ('thy', 4600), ('god', 4472), ('said', 3999), ('thee', 3827), ('upon', 2748), ('man', 2735)]\n"
     ]
    },
    {
     "data": {
      "text/plain": [
       "<Figure size 640x480 with 1 Axes>"
      ]
     },
     "metadata": {},
     "output_type": "display_data"
    }
   ],
   "source": [
    "import nltk\n",
    "nltk.download('gutenberg')\n",
    "nltk.download('stopwords')\n",
    "\n",
    "from nltk.corpus import gutenberg\n",
    "print(gutenberg.fileids())\n",
    "\n",
    "#gb_words : 불용어까지 모두 포함.\n",
    "\n",
    "#words_filtered : 불용어 처리됨.\n",
    "\n",
    "gb_words=gutenberg.words('bible-kjv.txt')\n",
    "words_filtered = [e.lower() for e in gb_words if len(e) >=3]\n",
    "stopwords=nltk.corpus.stopwords.words('english')\n",
    "words=[w for w in words_filtered if w.lower() not in stopwords]\n",
    "\n",
    "fdist=nltk.FreqDist(words)\n",
    "fdist2=nltk.FreqDist(gb_words)\n",
    "\n",
    "print('Following are the most common 10 words in the bag')\n",
    "print(fdist2.most_common(10))\n",
    "print('Following are the most common 10 words in the bag minus the stopwords')\n",
    "print(fdist.most_common(10))\n",
    "fdist.plot()"
   ]
  },
  {
   "cell_type": "markdown",
   "metadata": {},
   "source": [
    "### recipe 5 : 편집거리 측정"
   ]
  },
  {
   "cell_type": "markdown",
   "metadata": {},
   "source": [
    "#### 편집거리 (edit distance). 두 문서간 유사성 측정"
   ]
  },
  {
   "cell_type": "markdown",
   "metadata": {},
   "source": [
    "#### 레벤슈타인 거리(Levenshtein distance) \n",
    "\n",
    "2개가 같으면 cost =0 \n",
    "\n",
    "주변 숫자 중 제일 작은 값을 넣어라...!!!\n",
    "\n",
    "맨 마지막 숫자값이 두 문장/ 간의 유사도를 나타냄.ㅎ"
   ]
  },
  {
   "cell_type": "code",
   "execution_count": 13,
   "metadata": {},
   "outputs": [
    {
     "name": "stdout",
     "output_type": "stream",
     "text": [
      "Our Algorithm : 1\n",
      "NLTK Algorithm : 1\n"
     ]
    }
   ],
   "source": [
    "from nltk.metrics.distance import edit_distance\n",
    "\n",
    "def my_edit_distance(str1,str2):\n",
    "    m=len(str1)+1\n",
    "    n=len(str2)+1\n",
    "    \n",
    "    table={}\n",
    "    for i in range(m): table[i,0]=i\n",
    "    for j in range(n): table[0,j]=j\n",
    "        \n",
    "    for i in range(1,m):\n",
    "        for j in range(1,n):\n",
    "            cost=0 if str1[i-1]==str2[j-1] else 1\n",
    "            table[i,j]=min(table[i,j-1]+1,table[i-1,j-1]+cost)\n",
    "    \n",
    "    return table[i,j]        \n",
    "\n",
    "print(\"Our Algorithm :\",my_edit_distance(\"hand\",\"and\"))\n",
    "print(\"NLTK Algorithm :\",edit_distance(\"hand\",\"and\"))"
   ]
  },
  {
   "cell_type": "markdown",
   "metadata": {},
   "source": [
    "### recipe 6 : 문서간 공통 어휘 추출 - 유사도 측정"
   ]
  },
  {
   "cell_type": "code",
   "execution_count": 15,
   "metadata": {},
   "outputs": [
    {
     "name": "stdout",
     "output_type": "stream",
     "text": [
      "첫 번째 이야기 단어 : ['in', 'a', 'far', 'away', 'kingdom', 'there', 'was', 'a', 'river', 'this', 'river', 'was', 'home', 'to', 'many', 'golden', 'swans', 'the', 'swans', 'spent', 'most', 'of', 'their', 'time', 'on', 'the', 'banks', 'of', 'the', 'river', 'every', 'six', 'months', 'the', 'swans', 'would', 'leave', 'a', 'golden', 'feather', 'as', 'a', 'fee', 'for', 'using', 'the', 'lake', 'the', 'soldiers', 'of', 'the', 'kingdom', 'would', 'collect', 'the', 'feathers', 'and', 'deposit', 'them', 'in', 'the', 'royal', 'treasury', 'one', 'day', 'a', 'homeless', 'bird', 'saw', 'the', 'river', 'the', 'water', 'in', 'this', 'river', 'seems', 'so', 'cool', 'and', 'soothing', 'i', 'will', 'make', 'my', 'home', 'here', 'thought', 'the', 'bird', 'as', 'soon', 'as', 'the', 'bird', 'settled', 'down', 'near', 'the', 'river', 'the', 'golden', 'swans', 'noticed', 'her', 'they', 'came', 'shouting', 'this', 'river', 'belongs', 'to', 'us', 'we', 'pay', 'a', 'golden', 'feather', 'to', 'the', 'king', 'to', 'use', 'this', 'river', 'you', 'can', 'not', 'live', 'here', 'i', 'am', 'homeless', 'brothers', 'i', 'too', 'will', 'pay', 'the', 'rent', 'please', 'give', 'me', 'shelter', 'the', 'bird', 'pleaded', 'how', 'will', 'you', 'pay', 'the', 'rent', 'you', 'do', 'not', 'have', 'golden', 'feathers', 'said', 'the', 'swans', 'laughing', 'they', 'further', 'added', 'stop', 'dreaming', 'and', 'leave', 'once', 'the', 'humble', 'bird', 'pleaded', 'many', 'times', 'but', 'the', 'arrogant', 'swans', 'drove', 'the', 'bird', 'away', 'i', 'will', 'teach', 'them', 'a', 'lesson', 'decided', 'the', 'humiliated', 'bird', 'she', 'went', 'to', 'the', 'king', 'and', 'said', 'o', 'king', 'the', 'swans', 'in', 'your', 'river', 'are', 'impolite', 'and', 'unkind', 'i', 'begged', 'for', 'shelter', 'but', 'they', 'said', 'that', 'they', 'had', 'purchased', 'the', 'river', 'with', 'golden', 'feathers', 'the', 'king', 'was', 'angry', 'with', 'the', 'arrogant', 'swans', 'for', 'having', 'insulted', 'the', 'homeless', 'bird', 'he', 'ordered', 'his', 'soldiers', 'to', 'bring', 'the', 'arrogant', 'swans', 'to', 'his', 'court', 'in', 'no', 'time', 'all', 'the', 'golden', 'swans', 'were', 'brought', 'to', 'the', 'king’s', 'court', 'do', 'you', 'think', 'the', 'royal', 'treasury', 'depends', 'upon', 'your', 'golden', 'feathers', 'you', 'can', 'not', 'decide', 'who', 'lives', 'by', 'the', 'river', 'leave', 'the', 'river', 'at', 'once', 'or', 'you', 'all', 'will', 'be', 'beheaded', 'shouted', 'the', 'king', 'the', 'swans', 'shivered', 'with', 'fear', 'on', 'hearing', 'the', 'king', 'they', 'flew', 'away', 'never', 'to', 'return', 'the', 'bird', 'built', 'her', 'home', 'near', 'the', 'river', 'and', 'lived', 'there', 'happily', 'forever', 'the', 'bird', 'gave', 'shelter', 'to', 'all', 'other', 'birds', 'in', 'the', 'river', '']\n",
      "두 번째 이야기 단어 : ['long', 'time', 'ago', 'there', 'lived', 'a', 'king', 'he', 'was', 'lazy', 'and', 'liked', 'all', 'the', 'comforts', 'of', 'life', 'he', 'never', 'carried', 'out', 'his', 'duties', 'as', 'a', 'king', '“our', 'king', 'does', 'not', 'take', 'care', 'of', 'our', 'needs', 'he', 'also', 'ignores', 'the', 'affairs', 'of', 'his', 'kingdom', 'the', 'people', 'complained', 'one', 'day', 'the', 'king', 'went', 'into', 'the', 'forest', 'to', 'hunt', 'after', 'having', 'wandered', 'for', 'quite', 'sometime', 'he', 'became', 'thirsty', 'to', 'his', 'relief', 'he', 'spotted', 'a', 'lake', 'as', 'he', 'was', 'drinking', 'water', 'he', 'suddenly', 'saw', 'a', 'golden', 'swan', 'come', 'out', 'of', 'the', 'lake', 'and', 'perch', 'on', 'a', 'stone', '“oh', 'a', 'golden', 'swan', 'i', 'must', 'capture', 'it', 'thought', 'the', 'king', 'but', 'as', 'soon', 'as', 'he', 'held', 'his', 'bow', 'up', 'the', 'swan', 'disappeared', 'and', 'the', 'king', 'heard', 'a', 'voice', '“i', 'am', 'the', 'golden', 'swan', 'if', 'you', 'want', 'to', 'capture', 'me', 'you', 'must', 'come', 'to', 'heaven', 'surprised', 'the', 'king', 'said', '“please', 'show', 'me', 'the', 'way', 'to', 'heaven', '“do', 'good', 'deeds', 'serve', 'your', 'people', 'and', 'the', 'messenger', 'from', 'heaven', 'would', 'come', 'to', 'fetch', 'you', 'to', 'heaven', 'replied', 'the', 'voice', 'the', 'selfish', 'king', 'eager', 'to', 'capture', 'the', 'swan', 'tried', 'doing', 'some', 'good', 'deeds', 'in', 'his', 'kingdom', '“now', 'i', 'suppose', 'a', 'messenger', 'will', 'come', 'to', 'take', 'me', 'to', 'heaven', 'he', 'thought', 'but', 'no', 'messenger', 'came', 'the', 'king', 'then', 'disguised', 'himself', 'and', 'went', 'out', 'into', 'the', 'street', 'there', 'he', 'tried', 'helping', 'an', 'old', 'man', 'but', 'the', 'old', 'man', 'became', 'angry', 'and', 'said', '“you', 'need', 'not', 'try', 'to', 'help', 'i', 'am', 'in', 'this', 'miserable', 'state', 'because', 'of', 'out', 'selfish', 'king', 'he', 'has', 'done', 'nothing', 'for', 'his', 'people', 'suddenly', 'the', 'king', 'heard', 'the', 'golden', 'swan’s', 'voice', '“do', 'good', 'deeds', 'and', 'you', 'will', 'come', 'to', 'heaven', 'it', 'dawned', 'on', 'the', 'king', 'that', 'by', 'doing', 'selfish', 'acts', 'he', 'will', 'not', 'go', 'to', 'heaven', 'he', 'realized', 'that', 'his', 'people', 'needed', 'him', 'and', 'carrying', 'out', 'his', 'duties', 'was', 'the', 'only', 'way', 'to', 'heaven', 'after', 'that', 'day', 'he', 'became', 'a', 'responsible', 'king', '']\n",
      "첫 번째 이야기 어휘 : {'', 'noticed', 'decided', 'soldiers', 'court', 'brothers', 'water', 'insulted', 'deposit', 'arrogant', 'banks', 'be', 'other', 'river', 'were', 'make', 'to', 'and', 'near', 'soothing', 'decide', 'this', 'begged', 'homeless', 'but', 'their', 'so', 'came', 'unkind', 'angry', 'will', 'impolite', 'times', 'flew', 'said', 'birds', 'she', 'every', 'thought', 'that', 'had', 'using', 'spent', 'lesson', 'was', 'we', 'can', 'rent', 'saw', 'swans', 'them', 'shouted', 'lives', 'for', 'went', 'golden', 'collect', 'cool', 'not', 'shouting', 'far', 'leave', 'please', 'ordered', 'lived', 'by', 'day', 'added', 'kingdom', 'me', 'they', 'beheaded', 'time', 'six', 'having', 'bird', 'once', 'your', 'there', 'bring', 'of', 'think', 'settled', 'built', 'one', 'am', 'in', 'drove', 'feather', 'most', 'laughing', 'many', 'he', 'soon', 'brought', 'king', 'king’s', 'belongs', 'as', 'live', 'give', 'use', 'dreaming', 'all', 'pleaded', 'no', 'treasury', 'fee', 'home', 'shelter', 'royal', 'his', 'you', 'teach', 'shivered', 'do', 'down', 'feathers', 'are', 'forever', 'lake', 'my', 'return', 'too', 'how', 'have', 'o', 'us', 'who', 'further', 'or', 'never', 'fear', 'a', 'the', 'purchased', 'upon', 'pay', 'seems', 'here', 'months', 'gave', 'at', 'happily', 'her', 'with', 'away', 'stop', 'on', 'would', 'humble', 'humiliated', 'depends', 'i', 'hearing'}\n",
      "두 번째 이야기 어휘 : {'', 'people', 'miserable', 'suddenly', 'street', 'water', 'then', 'helping', 'done', 'dawned', 'ago', 'became', 'liked', 'sometime', 'comforts', 'from', '“i', 'to', 'life', 'has', 'and', 'messenger', 'this', 'nothing', 'him', 'but', 'because', 'came', 'quite', 'an', 'angry', 'will', '“our', 'said', 'duties', 'thought', 'up', 'that', 'go', 'was', 'capture', 'saw', 'realized', '“do', 'long', 'heard', 'stone', 'for', 'come', 'also', 'went', 'golden', 'deeds', 'disappeared', 'if', 'voice', 'not', 'needed', 'way', 'spotted', '“now', 'swan’s', 'old', 'does', 'surprised', 'lived', 'serve', 'only', 'tried', 'hunt', 'by', 'care', 'day', 'good', 'some', 'kingdom', 'try', 'must', 'me', 'held', 'into', 'wandered', 'eager', 'time', 'having', 'your', 'there', '“please', 'doing', 'of', 'acts', 'replied', 'one', 'help', 'am', 'in', 'needs', 'show', 'carried', 'after', 'our', 'he', 'soon', 'man', 'king', 'as', 'forest', 'fetch', 'take', 'all', 'perch', 'bow', 'complained', 'no', 'selfish', '“oh', 'his', 'responsible', 'you', 'ignores', 'out', 'state', 'lake', 'need', 'heaven', 'drinking', 'himself', 'never', 'disguised', 'a', 'the', 'suppose', 'relief', 'carrying', 'thirsty', 'affairs', 'want', 'it', '“you', 'swan', 'on', 'would', 'i', 'lazy'}\n",
      "공통 어휘 : {'', 'that', 'having', 'was', 'your', 'there', 'water', 'saw', 'lake', 'of', 'for', 'one', 'never', 'am', 'in', 'went', 'golden', 'a', 'the', 'to', 'not', 'and', 'he', 'soon', 'king', 'as', 'this', 'but', 'lived', 'all', 'time', 'by', 'came', 'on', 'would', 'angry', 'day', 'no', 'will', 'i', 'kingdom', 'said', 'me', 'his', 'you', 'thought'}\n"
     ]
    }
   ],
   "source": [
    "story1 = \"\"\"In a far away kingdom, there was a river. This river was home to many golden swans. The swans spent most of their time on the banks of the river. Every six months, the swans would leave a golden feather as a fee for using the lake. The soldiers of the kingdom would collect the feathers and deposit them in the royal treasury. \n",
    "One day, a homeless bird saw the river. \"The water in this river seems so cool and soothing. I will make my home here,\" thought the bird. \n",
    "As soon as the bird settled down near the river, the golden swans noticed her. They came shouting. \"This river belongs to us. We pay a golden feather to the King to use this river. You can not live here.\" \n",
    "\"I am homeless, brothers. I too will pay the rent. Please give me shelter,\" the bird pleaded. \"How will you pay the rent? You do not have golden feathers,\" said the swans laughing. They further added, \"Stop dreaming and leave once.\" The humble bird pleaded many times. But the arrogant swans drove the bird away. \n",
    "\"I will teach them a lesson!\" decided the humiliated bird. \n",
    "She went to the King and said, \"O King! The swans in your river are impolite and unkind. I begged for shelter but they said that they had purchased the river with golden feathers.\" \n",
    "The King was angry with the arrogant swans for having insulted the homeless bird. He ordered his soldiers to bring the arrogant swans to his court. In no time, all the golden swans were brought to the King’s court. \n",
    "\"Do you think the royal treasury depends upon your golden feathers? You can not decide who lives by the river. Leave the river at once or you all will be beheaded!\" shouted the King. \n",
    "The swans shivered with fear on hearing the King. They flew away never to return. The bird built her home near the river and lived there happily forever. The bird gave shelter to all other birds in the river. \"\"\"\n",
    "\n",
    "story2 = \"\"\"Long time ago, there lived a King. He was lazy and liked all the comforts of life. He never carried out his duties as a King. “Our King does not take care of our needs. He also ignores the affairs of his kingdom.\" The people complained. \n",
    "One day, the King went into the forest to hunt. After having wandered for quite sometime, he became thirsty. To his relief, he spotted a lake. As he was drinking water, he suddenly saw a golden swan come out of the lake and perch on a stone. “Oh! A golden swan. I must capture it,\" thought the King. \n",
    "But as soon as he held his bow up, the swan disappeared. And the King heard a voice, “I am the Golden Swan. If you want to capture me, you must come to heaven.\" \n",
    "Surprised, the King said, “Please show me the way to heaven.\" “Do good deeds, serve your people and the messenger from heaven would come to fetch you to heaven,\" replied the voice. \n",
    "The selfish King, eager to capture the Swan, tried doing some good deeds in his Kingdom. “Now, I suppose a messenger will come to take me to heaven,\" he thought. But, no messenger came. \n",
    "The King then disguised himself and went out into the street. There he tried helping an old man. But the old man became angry and said, “You need not try to help. I am in this miserable state because of out selfish King. He has done nothing for his people.\" \n",
    "Suddenly, the King heard the golden swan’s voice, “Do good deeds and you will come to heaven.\" It dawned on the King that by doing selfish acts, he will not go to heaven. \n",
    "He realized that his people needed him and carrying out his duties was the only way to heaven. After that day he became a responsible King. \"\"\"\n",
    "\n",
    "story1=story1.replace(\",\",\"\").replace(\"\\n\",\"\").replace('.','').replace('\"','').replace(\"!\",\"\").replace(\"?\",\"\").casefold()\n",
    "story2=story2.replace(\",\",\"\").replace(\"\\n\",\"\").replace('.','').replace('\"','').replace(\"!\",\"\").replace(\"?\",\"\").casefold()\n",
    "story1_words =story1.split(\" \")\n",
    "print(\"첫 번째 이야기 단어 :\",story1_words)\n",
    "\n",
    "story2_words = story2.split(\" \")\n",
    "print(\"두 번째 이야기 단어 :\",story2_words)\n",
    "\n",
    "story1_vocab =set(story1_words)\n",
    "print(\"첫 번째 이야기 어휘 :\",story1_vocab)\n",
    "story2_vocab = set(story2_words)\n",
    "print(\"두 번째 이야기 어휘 :\",story2_vocab)\n",
    "\n",
    "common_vocab =story1_vocab&story2_vocab\n",
    "print(\"공통 어휘 :\",common_vocab)"
   ]
  },
  {
   "cell_type": "code",
   "execution_count": null,
   "metadata": {},
   "outputs": [],
   "source": []
  }
 ],
 "metadata": {
  "kernelspec": {
   "display_name": "Python 3",
   "language": "python",
   "name": "python3"
  },
  "language_info": {
   "codemirror_mode": {
    "name": "ipython",
    "version": 3
   },
   "file_extension": ".py",
   "mimetype": "text/x-python",
   "name": "python",
   "nbconvert_exporter": "python",
   "pygments_lexer": "ipython3",
   "version": "3.6.5"
  }
 },
 "nbformat": 4,
 "nbformat_minor": 2
}
