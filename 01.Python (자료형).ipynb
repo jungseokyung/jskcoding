{
 "cells": [
  {
   "cell_type": "markdown",
   "metadata": {},
   "source": [
    "### 형 변환 -cast (type change)"
   ]
  },
  {
   "cell_type": "markdown",
   "metadata": {},
   "source": [
    "#### 묵시적 형변환 vs 명시적 형변환"
   ]
  },
  {
   "cell_type": "markdown",
   "metadata": {},
   "source": [
    "#### 묵시적 형변환"
   ]
  },
  {
   "cell_type": "code",
   "execution_count": 1,
   "metadata": {},
   "outputs": [],
   "source": [
    "a=10\n",
    "b=3.5"
   ]
  },
  {
   "cell_type": "code",
   "execution_count": 2,
   "metadata": {},
   "outputs": [
    {
     "name": "stdout",
     "output_type": "stream",
     "text": [
      "<class 'int'>\n",
      "<class 'float'>\n"
     ]
    }
   ],
   "source": [
    "print(type(a))\n",
    "print(type(b))"
   ]
  },
  {
   "cell_type": "markdown",
   "metadata": {},
   "source": [
    "#### 명시적 형변환 -  a 를 float 형으로 ,  b를 int형으로"
   ]
  },
  {
   "cell_type": "code",
   "execution_count": 3,
   "metadata": {},
   "outputs": [
    {
     "name": "stdout",
     "output_type": "stream",
     "text": [
      "10.0\n",
      "3\n"
     ]
    }
   ],
   "source": [
    "a=float(a)\n",
    "b=int(b)\n",
    "\n",
    "print(a)\n",
    "print(b)"
   ]
  },
  {
   "cell_type": "markdown",
   "metadata": {},
   "source": [
    "#### bool 자료형 (True & False)"
   ]
  },
  {
   "cell_type": "code",
   "execution_count": 4,
   "metadata": {},
   "outputs": [
    {
     "name": "stdout",
     "output_type": "stream",
     "text": [
      "True\n",
      "<class 'bool'>\n",
      "False\n",
      "<class 'bool'>\n"
     ]
    }
   ],
   "source": [
    "a=True\n",
    "b=False\n",
    "\n",
    "print(a)\n",
    "print(type(a))\n",
    "print(b)\n",
    "print(type(b))"
   ]
  },
  {
   "cell_type": "code",
   "execution_count": 5,
   "metadata": {},
   "outputs": [
    {
     "name": "stdout",
     "output_type": "stream",
     "text": [
      "True\n",
      "False\n",
      "True\n",
      "False\n"
     ]
    }
   ],
   "source": [
    "print(1==1) # True\n",
    "print(1!=1) #False\n",
    "print(2>1) # True\n",
    "print(2<=1) # False"
   ]
  },
  {
   "cell_type": "markdown",
   "metadata": {},
   "source": [
    "#### 숫자 -> bool형변환"
   ]
  },
  {
   "cell_type": "code",
   "execution_count": 6,
   "metadata": {},
   "outputs": [
    {
     "name": "stdout",
     "output_type": "stream",
     "text": [
      "True\n",
      "False\n"
     ]
    }
   ],
   "source": [
    "print(bool(1))\n",
    "print(bool(0))"
   ]
  },
  {
   "cell_type": "markdown",
   "metadata": {},
   "source": [
    "### 문자열 자료형"
   ]
  },
  {
   "cell_type": "markdown",
   "metadata": {},
   "source": [
    "#### String "
   ]
  },
  {
   "cell_type": "code",
   "execution_count": 7,
   "metadata": {},
   "outputs": [],
   "source": [
    "quote = \"나는 생각한다. 고로 존재한다.\""
   ]
  },
  {
   "cell_type": "code",
   "execution_count": 8,
   "metadata": {},
   "outputs": [
    {
     "name": "stdout",
     "output_type": "stream",
     "text": [
      "나는 생각한다. 고로 존재한다.\n",
      "<class 'str'>\n"
     ]
    }
   ],
   "source": [
    "print(quote)\n",
    "print(type(quote))"
   ]
  },
  {
   "cell_type": "code",
   "execution_count": 9,
   "metadata": {},
   "outputs": [],
   "source": [
    "introduce = \"\"\"데카르트는 1596년 3월 31일 투렌 지방(Touraine)의 투르 인근에 있는 소도시 라에\n",
    "(La Haye, 현재는 그의 이름을 따서 데카르트 시로 개명함[1])의 법관 귀족 가문에서 태어났다. \n",
    "\n",
    "그의 아버지는 브르타뉴 지역 렌(Renne)시의 시의원이었으며, 어머니는 그가 태어난 지 14달이 못 되어 세상을 떠났다. \n",
    "이후 그는 외할머니 밑에서 자랐고, 어린 시절 몸이 무척 허약했다고 한다. \n",
    "1606년 그는 예수회가 운영하는 라 플레쉬 콜레주(Collège la Flèche)에 입학하여 1614년까지 8년간에 걸쳐 철저하게 중세식 그리고 인본주의 교육을 받았다. \n",
    "5년간 라틴어, 수사학, 고전 작가 수업을 받았고 3년간 변증론에서 비롯하여 자연철학, 형이상학 그리고 윤리학을 포괄하는 철학 수업을 받았다.\n",
    "그가 이 시기에 받은 교육은 후에 그의 저서 여기저기에 흔적을 남기게 되는데 특히 《방법서설》에 많은 영향을 끼쳤다. \n",
    "라 플레쉬를 졸업한 후 푸아티에(Poitiers) 대학 법학과에 입학해 수학·자연 과학·법률학·스콜라 철학 등을 배우고, \n",
    "수학만이 명증적인 지식이라고 생각하였다. 1616년에 리상스(Licence)를 취득한다. \n",
    "이후 그는 '세상이라는 커다란 책'으로부터 실질적인 지식을 얻고자 학교 밖으로 나갔고, 다시는 제도권 교육으로 돌아오지 않았다.\n",
    "졸업 후 지원병으로 입대하여 네덜란드에 갔으며, 30년 전쟁이 일어나자 독일에 출정하였다. \n",
    "1619년 네덜란드를 여행하면서 첫 작품인 짧은 《음악 개론》(Compendium Musicae)을 썼다.\n",
    "\"\"\"\n"
   ]
  },
  {
   "cell_type": "code",
   "execution_count": 10,
   "metadata": {},
   "outputs": [
    {
     "name": "stdout",
     "output_type": "stream",
     "text": [
      "<class 'str'>\n",
      "\n",
      "데카르트는 1596년 3월 31일 투렌 지방(Touraine)의 투르 인근에 있는 소도시 라에\n",
      "(La Haye, 현재는 그의 이름을 따서 데카르트 시로 개명함[1])의 법관 귀족 가문에서 태어났다. \n",
      "\n",
      "그의 아버지는 브르타뉴 지역 렌(Renne)시의 시의원이었으며, 어머니는 그가 태어난 지 14달이 못 되어 세상을 떠났다. \n",
      "이후 그는 외할머니 밑에서 자랐고, 어린 시절 몸이 무척 허약했다고 한다. \n",
      "1606년 그는 예수회가 운영하는 라 플레쉬 콜레주(Collège la Flèche)에 입학하여 1614년까지 8년간에 걸쳐 철저하게 중세식 그리고 인본주의 교육을 받았다. \n",
      "5년간 라틴어, 수사학, 고전 작가 수업을 받았고 3년간 변증론에서 비롯하여 자연철학, 형이상학 그리고 윤리학을 포괄하는 철학 수업을 받았다.\n",
      "그가 이 시기에 받은 교육은 후에 그의 저서 여기저기에 흔적을 남기게 되는데 특히 《방법서설》에 많은 영향을 끼쳤다. \n",
      "라 플레쉬를 졸업한 후 푸아티에(Poitiers) 대학 법학과에 입학해 수학·자연 과학·법률학·스콜라 철학 등을 배우고, \n",
      "수학만이 명증적인 지식이라고 생각하였다. 1616년에 리상스(Licence)를 취득한다. \n",
      "이후 그는 '세상이라는 커다란 책'으로부터 실질적인 지식을 얻고자 학교 밖으로 나갔고, 다시는 제도권 교육으로 돌아오지 않았다.\n",
      "졸업 후 지원병으로 입대하여 네덜란드에 갔으며, 30년 전쟁이 일어나자 독일에 출정하였다. \n",
      "1619년 네덜란드를 여행하면서 첫 작품인 짧은 《음악 개론》(Compendium Musicae)을 썼다.\n",
      "\n"
     ]
    }
   ],
   "source": [
    "print(type(quote))\n",
    "print()\n",
    "print(introduce)"
   ]
  },
  {
   "cell_type": "markdown",
   "metadata": {},
   "source": [
    "### 문자열 연산"
   ]
  },
  {
   "cell_type": "code",
   "execution_count": 11,
   "metadata": {},
   "outputs": [],
   "source": [
    "quote = \"나는 생각한다. 고로 존재한다!\"\n",
    "speaker = 'by 데카르트'"
   ]
  },
  {
   "cell_type": "code",
   "execution_count": 12,
   "metadata": {},
   "outputs": [
    {
     "name": "stdout",
     "output_type": "stream",
     "text": [
      "나는 생각한다. 고로 존재한다!by 데카르트\n"
     ]
    }
   ],
   "source": [
    "print(quote+speaker)"
   ]
  },
  {
   "cell_type": "markdown",
   "metadata": {},
   "source": [
    "#### 문자열끼리 (- * / 등의)연산자들은 지원하지 않아요."
   ]
  },
  {
   "cell_type": "code",
   "execution_count": 36,
   "metadata": {},
   "outputs": [
    {
     "ename": "TypeError",
     "evalue": "unsupported operand type(s) for -: 'str' and 'str'",
     "output_type": "error",
     "traceback": [
      "\u001b[1;31m---------------------------------------------------------------------------\u001b[0m",
      "\u001b[1;31mTypeError\u001b[0m                                 Traceback (most recent call last)",
      "\u001b[1;32m<ipython-input-36-d2e927140208>\u001b[0m in \u001b[0;36m<module>\u001b[1;34m\u001b[0m\n\u001b[1;32m----> 1\u001b[1;33m \u001b[0mprint\u001b[0m\u001b[1;33m(\u001b[0m\u001b[0mquote\u001b[0m\u001b[1;33m-\u001b[0m\u001b[0mspeaker\u001b[0m\u001b[1;33m)\u001b[0m\u001b[1;33m\u001b[0m\u001b[1;33m\u001b[0m\u001b[0m\n\u001b[0m",
      "\u001b[1;31mTypeError\u001b[0m: unsupported operand type(s) for -: 'str' and 'str'"
     ]
    }
   ],
   "source": [
    "print(quote-speaker)"
   ]
  },
  {
   "cell_type": "code",
   "execution_count": 37,
   "metadata": {
    "scrolled": true
   },
   "outputs": [
    {
     "ename": "TypeError",
     "evalue": "unsupported operand type(s) for /: 'str' and 'str'",
     "output_type": "error",
     "traceback": [
      "\u001b[1;31m---------------------------------------------------------------------------\u001b[0m",
      "\u001b[1;31mTypeError\u001b[0m                                 Traceback (most recent call last)",
      "\u001b[1;32m<ipython-input-37-40e36502a9d8>\u001b[0m in \u001b[0;36m<module>\u001b[1;34m\u001b[0m\n\u001b[1;32m----> 1\u001b[1;33m \u001b[0mprint\u001b[0m\u001b[1;33m(\u001b[0m\u001b[0mquote\u001b[0m\u001b[1;33m/\u001b[0m\u001b[0mspeaker\u001b[0m\u001b[1;33m)\u001b[0m\u001b[1;33m\u001b[0m\u001b[1;33m\u001b[0m\u001b[0m\n\u001b[0m",
      "\u001b[1;31mTypeError\u001b[0m: unsupported operand type(s) for /: 'str' and 'str'"
     ]
    }
   ],
   "source": [
    "print(quote/speaker)"
   ]
  },
  {
   "cell_type": "code",
   "execution_count": 38,
   "metadata": {},
   "outputs": [
    {
     "ename": "TypeError",
     "evalue": "can't multiply sequence by non-int of type 'str'",
     "output_type": "error",
     "traceback": [
      "\u001b[1;31m---------------------------------------------------------------------------\u001b[0m",
      "\u001b[1;31mTypeError\u001b[0m                                 Traceback (most recent call last)",
      "\u001b[1;32m<ipython-input-38-e849e282682f>\u001b[0m in \u001b[0;36m<module>\u001b[1;34m\u001b[0m\n\u001b[1;32m----> 1\u001b[1;33m \u001b[0mprint\u001b[0m\u001b[1;33m(\u001b[0m\u001b[0mquote\u001b[0m\u001b[1;33m*\u001b[0m\u001b[0mspeaker\u001b[0m\u001b[1;33m)\u001b[0m\u001b[1;33m\u001b[0m\u001b[1;33m\u001b[0m\u001b[0m\n\u001b[0m",
      "\u001b[1;31mTypeError\u001b[0m: can't multiply sequence by non-int of type 'str'"
     ]
    }
   ],
   "source": [
    "print(quote*speaker)"
   ]
  },
  {
   "cell_type": "code",
   "execution_count": 13,
   "metadata": {},
   "outputs": [
    {
     "name": "stdout",
     "output_type": "stream",
     "text": [
      "나는 생각한다. 고로 존재한다!나는 생각한다. 고로 존재한다!나는 생각한다. 고로 존재한다!\n"
     ]
    }
   ],
   "source": [
    "print(quote*3)"
   ]
  },
  {
   "cell_type": "markdown",
   "metadata": {},
   "source": [
    "#### 이스케이프 코드\n",
    "|n : 개행\n",
    "\n",
    "|t :탭\n",
    "\n",
    "||: 슬래쉬\n",
    "\n",
    "|' : 작은 따음표\n",
    "\n",
    "|\" : 큰 따옴표"
   ]
  },
  {
   "cell_type": "code",
   "execution_count": 21,
   "metadata": {},
   "outputs": [
    {
     "name": "stdout",
     "output_type": "stream",
     "text": [
      "나는 생각한다. 고로 존재한다! \n",
      "by 데카르트\n"
     ]
    }
   ],
   "source": [
    "quote = \"나는 생각한다. 고로 존재한다! \\nby 데카르트\"\n",
    "print(quote)"
   ]
  },
  {
   "cell_type": "code",
   "execution_count": 22,
   "metadata": {},
   "outputs": [
    {
     "name": "stdout",
     "output_type": "stream",
     "text": [
      "나는 생각한다. 고로 존재한다! \tby 데카르트\n"
     ]
    }
   ],
   "source": [
    "quote = \"나는 생각한다. 고로 존재한다! \\tby 데카르트\"\n",
    "print(quote)"
   ]
  },
  {
   "cell_type": "code",
   "execution_count": 23,
   "metadata": {},
   "outputs": [
    {
     "name": "stdout",
     "output_type": "stream",
     "text": [
      "나는 생각한다. 고로 존재한다! \\by 데카르트\n"
     ]
    }
   ],
   "source": [
    "quote = \"나는 생각한다. 고로 존재한다! \\\\by 데카르트\"\n",
    "print(quote)"
   ]
  },
  {
   "cell_type": "code",
   "execution_count": 24,
   "metadata": {},
   "outputs": [
    {
     "name": "stdout",
     "output_type": "stream",
     "text": [
      "'나는 생각한다. 고로 존재한다! ''\"by 데카르트\"\n"
     ]
    }
   ],
   "source": [
    "quote = \"'나는 생각한다. 고로 존재한다! ''\\\"by 데카르트\\\"\"\n",
    "print(quote)"
   ]
  },
  {
   "cell_type": "markdown",
   "metadata": {},
   "source": [
    "### 문자열 인덱싱"
   ]
  },
  {
   "cell_type": "code",
   "execution_count": 25,
   "metadata": {},
   "outputs": [
    {
     "name": "stdout",
     "output_type": "stream",
     "text": [
      "'\n",
      "나\n",
      "한\n"
     ]
    }
   ],
   "source": [
    "print(quote[0])\n",
    "print(quote[1])\n",
    "print(quote[6])"
   ]
  },
  {
   "cell_type": "code",
   "execution_count": 26,
   "metadata": {},
   "outputs": [
    {
     "name": "stdout",
     "output_type": "stream",
     "text": [
      "'나는 \n"
     ]
    }
   ],
   "source": [
    "print(quote[0:4])"
   ]
  },
  {
   "cell_type": "code",
   "execution_count": 28,
   "metadata": {
    "scrolled": true
   },
   "outputs": [
    {
     "name": "stdout",
     "output_type": "stream",
     "text": [
      "'나는 생\n"
     ]
    }
   ],
   "source": [
    "print(quote[:5])"
   ]
  },
  {
   "cell_type": "code",
   "execution_count": 29,
   "metadata": {
    "scrolled": true
   },
   "outputs": [
    {
     "name": "stdout",
     "output_type": "stream",
     "text": [
      "' 한\n"
     ]
    }
   ],
   "source": [
    "print(quote[0:7:3])"
   ]
  },
  {
   "cell_type": "code",
   "execution_count": 27,
   "metadata": {},
   "outputs": [
    {
     "name": "stdout",
     "output_type": "stream",
     "text": [
      "\"\n",
      "르\n"
     ]
    }
   ],
   "source": [
    "print(quote[-1])\n",
    "print(quote[-3])"
   ]
  },
  {
   "cell_type": "code",
   "execution_count": 30,
   "metadata": {},
   "outputs": [
    {
     "name": "stdout",
     "output_type": "stream",
     "text": [
      "'나는 생각한다. 고로 존재한다! ''\"by 데카르트\"\n"
     ]
    }
   ],
   "source": [
    "print(quote[:]) #전체 출력"
   ]
  },
  {
   "cell_type": "markdown",
   "metadata": {},
   "source": [
    "### 연습문제"
   ]
  },
  {
   "cell_type": "markdown",
   "metadata": {},
   "source": [
    "#### a=\"20190505chicken19000\"는 잘못 쓰여진 변수이다.  \n",
    "처음부터 **2019는 year이라는 변수**에, 그 다음 **0505를 day라는 변수**에,  \n",
    "**chicken을 menu라는 변수**에, **19000을 money라는 변수에 각각 저장**하시오.   \n",
    "**(반드시 인덱싱을 사용하시요.)**"
   ]
  },
  {
   "cell_type": "code",
   "execution_count": 31,
   "metadata": {},
   "outputs": [],
   "source": [
    "a = \"20190505chicken19000\""
   ]
  },
  {
   "cell_type": "code",
   "execution_count": 32,
   "metadata": {},
   "outputs": [
    {
     "name": "stdout",
     "output_type": "stream",
     "text": [
      "2019\n",
      "0505\n",
      "chicken\n",
      "19000\n"
     ]
    }
   ],
   "source": [
    "year=a[:4]\n",
    "day=a[4:8]\n",
    "menu=a[8:15]\n",
    "money=a[15:]\n",
    "\n",
    "print(year)\n",
    "print(day)\n",
    "print(menu)\n",
    "print(money)"
   ]
  },
  {
   "cell_type": "markdown",
   "metadata": {},
   "source": [
    "#### 연습문제. 2\n",
    "a=\"90:30:80\"이고 :을 기준으로 각각 수학점수, 영어점수, 과학점수이다.  \n",
    "**문자열 인덱싱**을 이용해 각 점수를 각각 math, english, science 변수에 저장하고,  \n",
    "average 란 변수에 평균값을 저장하고 출력하시오.# "
   ]
  },
  {
   "cell_type": "code",
   "execution_count": 33,
   "metadata": {},
   "outputs": [
    {
     "name": "stdout",
     "output_type": "stream",
     "text": [
      "66.66666666666667\n"
     ]
    }
   ],
   "source": [
    "a = \"90:30:80\"\n",
    "math = a[:2]\n",
    "english = a[3:5]\n",
    "science = a[6:8]\n",
    "\n",
    "math = int(math)\n",
    "english = int(english)\n",
    "science = int(science)\n",
    "\n",
    "average = (math + english + science)/3\n",
    "print(average)"
   ]
  },
  {
   "cell_type": "code",
   "execution_count": 35,
   "metadata": {},
   "outputs": [
    {
     "ename": "TypeError",
     "evalue": "can only concatenate str (not \"int\") to str",
     "output_type": "error",
     "traceback": [
      "\u001b[1;31m---------------------------------------------------------------------------\u001b[0m",
      "\u001b[1;31mTypeError\u001b[0m                                 Traceback (most recent call last)",
      "\u001b[1;32m<ipython-input-35-8b3d402d992f>\u001b[0m in \u001b[0;36m<module>\u001b[1;34m\u001b[0m\n\u001b[0;32m     10\u001b[0m \u001b[0mscience\u001b[0m \u001b[1;33m=\u001b[0m \u001b[0mint\u001b[0m\u001b[1;33m(\u001b[0m\u001b[0mscience\u001b[0m\u001b[1;33m)\u001b[0m\u001b[1;33m\u001b[0m\u001b[1;33m\u001b[0m\u001b[0m\n\u001b[0;32m     11\u001b[0m \u001b[1;33m\u001b[0m\u001b[0m\n\u001b[1;32m---> 12\u001b[1;33m \u001b[0maverage\u001b[0m \u001b[1;33m=\u001b[0m \u001b[1;33m(\u001b[0m\u001b[0mmath\u001b[0m \u001b[1;33m+\u001b[0m \u001b[0menglish\u001b[0m \u001b[1;33m+\u001b[0m \u001b[0mscience\u001b[0m\u001b[1;33m)\u001b[0m\u001b[1;33m/\u001b[0m\u001b[1;36m3\u001b[0m\u001b[1;33m\u001b[0m\u001b[1;33m\u001b[0m\u001b[0m\n\u001b[0m\u001b[0;32m     13\u001b[0m \u001b[0mprint\u001b[0m\u001b[1;33m(\u001b[0m\u001b[0maverage\u001b[0m\u001b[1;33m)\u001b[0m\u001b[1;33m\u001b[0m\u001b[1;33m\u001b[0m\u001b[0m\n",
      "\u001b[1;31mTypeError\u001b[0m: can only concatenate str (not \"int\") to str"
     ]
    }
   ],
   "source": [
    "a = \"90:30:80\"\n",
    "math = a[:2]\n",
    "english = a[3:5]\n",
    "science = a[6:8]\n",
    "\n",
    "#math 는 문자열 이므로, int형으로 바꿔줘야 한다.\n",
    "\n",
    "math = (math)\n",
    "english = int(english)\n",
    "science = int(science)\n",
    "\n",
    "average = (math + english + science)/3\n",
    "print(average)"
   ]
  },
  {
   "cell_type": "markdown",
   "metadata": {},
   "source": [
    "### 문자열 포매팅"
   ]
  },
  {
   "cell_type": "markdown",
   "metadata": {},
   "source": [
    "#### 서식문자 이용하기"
   ]
  },
  {
   "cell_type": "code",
   "execution_count": 39,
   "metadata": {},
   "outputs": [
    {
     "name": "stdout",
     "output_type": "stream",
     "text": [
      "지훈이는 어제 수학시험에서 95점을 맞았다.\n"
     ]
    }
   ],
   "source": [
    "score = 95\n",
    "a = \"지훈이는 어제 수학시험에서 %s점을 맞았다.\" % score\n",
    "print(a)"
   ]
  },
  {
   "cell_type": "code",
   "execution_count": 40,
   "metadata": {},
   "outputs": [
    {
     "name": "stdout",
     "output_type": "stream",
     "text": [
      "지훈이는 어제 수학시험에서         95점을 맞았다.\n"
     ]
    }
   ],
   "source": [
    "score = 95\n",
    "a = \"지훈이는 어제 수학시험에서 %10s점을 맞았다.\" % score\n",
    "print(a)\n",
    "\n",
    "# % 10 s:  왼쪽으로 10칸 띄어라."
   ]
  },
  {
   "cell_type": "code",
   "execution_count": 41,
   "metadata": {},
   "outputs": [
    {
     "name": "stdout",
     "output_type": "stream",
     "text": [
      "지훈이는 어제 수학시험에서 95점을 받았고, \n",
      "영어시험에서 65 점을 받았다.\n"
     ]
    }
   ],
   "source": [
    "math = 95\n",
    "english = 65\n",
    "a = \"지훈이는 어제 수학시험에서 %s점을 받았고, \\n영어시험에서 %s 점을 받았다.\" % (math, english)\n",
    "print(a)"
   ]
  },
  {
   "cell_type": "markdown",
   "metadata": {},
   "source": [
    "##### 첫번째 % s : math\n"
   ]
  },
  {
   "cell_type": "markdown",
   "metadata": {},
   "source": [
    "#### #두번째 % s :english"
   ]
  },
  {
   "cell_type": "markdown",
   "metadata": {},
   "source": [
    "#### 여러개일 때는, %(math,english) 이렇게 해준다."
   ]
  },
  {
   "cell_type": "markdown",
   "metadata": {},
   "source": [
    "### format 함수 "
   ]
  },
  {
   "cell_type": "markdown",
   "metadata": {},
   "source": [
    "#### \" {0}어쩌구 저쩌구 {1}\" . format(math,english)"
   ]
  },
  {
   "cell_type": "code",
   "execution_count": 42,
   "metadata": {
    "scrolled": true
   },
   "outputs": [
    {
     "name": "stdout",
     "output_type": "stream",
     "text": [
      "지훈이는 어제 수학시점에서 95점을 받았고, \n",
      "영어시험에서 65점을 받았다.\n"
     ]
    }
   ],
   "source": [
    "math = 95\n",
    "english = 65\n",
    "a = \"지훈이는 어제 수학시점에서 {0}점을 받았고, \\n영어시험에서 {1}점을 받았다.\".format(math, english)\n",
    "print(a)"
   ]
  },
  {
   "cell_type": "markdown",
   "metadata": {},
   "source": [
    "#### .format(matn,english, science=sicens)\n",
    "좌 science : 저장해라.\n",
    "우 science : 위에 40 값"
   ]
  },
  {
   "cell_type": "code",
   "execution_count": 43,
   "metadata": {},
   "outputs": [
    {
     "name": "stdout",
     "output_type": "stream",
     "text": [
      "지훈이는 어제 수학시점에서 95점을 받았고, \n",
      "영어시험에서 65점을 받았다.\n",
      "그리고 과학시험에서는 40점을 받았다.\n",
      "수학시험 95점은 정말 잘했다고 생각한다.\n",
      "\n"
     ]
    }
   ],
   "source": [
    "math = 95\n",
    "english = 65\n",
    "science = 40\n",
    "a = \"\"\"지훈이는 어제 수학시점에서 {0}점을 받았고, \n",
    "영어시험에서 {1}점을 받았다.\n",
    "그리고 과학시험에서는 {science}점을 받았다.\n",
    "수학시험 {0}점은 정말 잘했다고 생각한다.\n",
    "\"\"\".format(math, english, science=science)\n",
    "\n",
    "print(a)"
   ]
  },
  {
   "cell_type": "markdown",
   "metadata": {},
   "source": [
    "#### \"{0:>10}\"   왼쪽으로 10칸 띄어라."
   ]
  },
  {
   "cell_type": "markdown",
   "metadata": {},
   "source": [
    "#### {1:^10}  : 가운데에 이만큼 띄워라 . 양옆으로"
   ]
  },
  {
   "cell_type": "markdown",
   "metadata": {},
   "source": [
    "#### \"{:<10}\" : 가운데에 오른쪽만큼 띄워라..!!"
   ]
  },
  {
   "cell_type": "code",
   "execution_count": 44,
   "metadata": {},
   "outputs": [
    {
     "name": "stdout",
     "output_type": "stream",
     "text": [
      "수학점수         95 \n",
      "영어점수     65     \n",
      "과학점수 40        \n"
     ]
    }
   ],
   "source": [
    "print(\"수학점수 {0:>10} \\n영어점수 {1:^10} \\n과학점수 {science:<10}\".format(math,english, science=science))"
   ]
  },
  {
   "cell_type": "code",
   "execution_count": 45,
   "metadata": {},
   "outputs": [
    {
     "name": "stdout",
     "output_type": "stream",
     "text": [
      "수학점수 .....95.34 \n",
      "영어점수 ====65==== \n",
      "과학점수 40--------\n"
     ]
    }
   ],
   "source": [
    "math = 95.342212\n",
    "# 공백 채우기\n",
    "print(\"수학점수 {0:.>10.2f} \\n영어점수 {1:=^10} \\n과학점수 {science:-<10}\".format(math, english, science=science))"
   ]
  },
  {
   "cell_type": "markdown",
   "metadata": {},
   "source": [
    "#### f문자열 포매팅\n",
    "파이썬 3.6 버전부터는 f 문자열 포매팅 기능을 사용할 수 있다. 파이썬 3.6 미만 버전에서는 사용할 수 없는 기능이므로 주의해야 한다.  \n",
    "다음과 같이 문자열 앞에 f 접두사를 붙이면 f 문자열 포매팅 기능을 사용할 수 있다."
   ]
  },
  {
   "cell_type": "code",
   "execution_count": 46,
   "metadata": {},
   "outputs": [
    {
     "name": "stdout",
     "output_type": "stream",
     "text": [
      "수학점수 95 \n",
      "영어점수 65 \n",
      "과학점수 40\n"
     ]
    }
   ],
   "source": [
    "math = 95\n",
    "english = 65\n",
    "science = 40\n",
    "print(f\"수학점수 {math} \\n영어점수 {english} \\n과학점수 {science}\")"
   ]
  },
  {
   "cell_type": "markdown",
   "metadata": {},
   "source": [
    "# 문자열 함수 : count, index, upper,lower,strip,replace, split"
   ]
  },
  {
   "cell_type": "markdown",
   "metadata": {},
   "source": [
    "## 문자열 . count(  '문자'  )"
   ]
  },
  {
   "cell_type": "code",
   "execution_count": 48,
   "metadata": {},
   "outputs": [
    {
     "name": "stdout",
     "output_type": "stream",
     "text": [
      "4\n",
      "2\n"
     ]
    }
   ],
   "source": [
    "a = \"Impossible is impossible\"\n",
    "print(a.count('i'))\n",
    "print(a.count('l'))"
   ]
  },
  {
   "cell_type": "markdown",
   "metadata": {},
   "source": [
    "## 문자열 . index ( '문자' )"
   ]
  },
  {
   "cell_type": "code",
   "execution_count": 49,
   "metadata": {},
   "outputs": [
    {
     "data": {
      "text/plain": [
       "6"
      ]
     },
     "execution_count": 49,
     "metadata": {},
     "output_type": "execute_result"
    }
   ],
   "source": [
    "a.index('i')"
   ]
  },
  {
   "cell_type": "code",
   "execution_count": 52,
   "metadata": {},
   "outputs": [
    {
     "ename": "ValueError",
     "evalue": "substring not found",
     "output_type": "error",
     "traceback": [
      "\u001b[1;31m---------------------------------------------------------------------------\u001b[0m",
      "\u001b[1;31mValueError\u001b[0m                                Traceback (most recent call last)",
      "\u001b[1;32m<ipython-input-52-34d116e462d6>\u001b[0m in \u001b[0;36m<module>\u001b[1;34m\u001b[0m\n\u001b[1;32m----> 1\u001b[1;33m \u001b[0ma\u001b[0m\u001b[1;33m.\u001b[0m\u001b[0mindex\u001b[0m\u001b[1;33m(\u001b[0m\u001b[1;34m'a'\u001b[0m\u001b[1;33m)\u001b[0m \u001b[1;31m#에러\u001b[0m\u001b[1;33m\u001b[0m\u001b[1;33m\u001b[0m\u001b[0m\n\u001b[0m",
      "\u001b[1;31mValueError\u001b[0m: substring not found"
     ]
    }
   ],
   "source": [
    "a.index('a') #에러"
   ]
  },
  {
   "cell_type": "markdown",
   "metadata": {},
   "source": [
    "## Upper & Lower"
   ]
  },
  {
   "cell_type": "code",
   "execution_count": 53,
   "metadata": {},
   "outputs": [],
   "source": [
    "a = \"I am a boy\""
   ]
  },
  {
   "cell_type": "code",
   "execution_count": 54,
   "metadata": {},
   "outputs": [
    {
     "name": "stdout",
     "output_type": "stream",
     "text": [
      "I AM A BOY\n"
     ]
    }
   ],
   "source": [
    "print(a.upper())"
   ]
  },
  {
   "cell_type": "code",
   "execution_count": 55,
   "metadata": {},
   "outputs": [
    {
     "name": "stdout",
     "output_type": "stream",
     "text": [
      "i am a boy\n"
     ]
    }
   ],
   "source": [
    "print(a.lower())"
   ]
  },
  {
   "cell_type": "markdown",
   "metadata": {},
   "source": [
    "## 문자열 . strip()"
   ]
  },
  {
   "cell_type": "markdown",
   "metadata": {},
   "source": [
    "## 문자열 . lstrip()  or . rstrip()"
   ]
  },
  {
   "cell_type": "code",
   "execution_count": 56,
   "metadata": {},
   "outputs": [],
   "source": [
    "a = \"   공백이 너무 많아요.      \""
   ]
  },
  {
   "cell_type": "code",
   "execution_count": 57,
   "metadata": {},
   "outputs": [
    {
     "name": "stdout",
     "output_type": "stream",
     "text": [
      "20\n",
      "   공백이 너무 많아요.      \n"
     ]
    }
   ],
   "source": [
    "print(len(a))\n",
    "print(a)"
   ]
  },
  {
   "cell_type": "code",
   "execution_count": 58,
   "metadata": {
    "scrolled": true
   },
   "outputs": [
    {
     "name": "stdout",
     "output_type": "stream",
     "text": [
      "11\n",
      "공백이 너무 많아요.\n",
      "공백이 너무 많아요.      \n",
      "   공백이 너무 많아요.\n"
     ]
    }
   ],
   "source": [
    "b = a.strip()\n",
    "print(len(b))\n",
    "print(b)\n",
    "\n",
    "print(a.lstrip())\n",
    "print(a.rstrip())"
   ]
  },
  {
   "cell_type": "markdown",
   "metadata": {},
   "source": [
    "## 문자열 . replace( \"원래\" ,  \"수정\" )"
   ]
  },
  {
   "cell_type": "code",
   "execution_count": 59,
   "metadata": {},
   "outputs": [
    {
     "name": "stdout",
     "output_type": "stream",
     "text": [
      "사랑은 돌아오는거야.\n"
     ]
    }
   ],
   "source": [
    "a = \"사랑은 돌아오는거야.\"\n",
    "print(a)"
   ]
  },
  {
   "cell_type": "code",
   "execution_count": 60,
   "metadata": {},
   "outputs": [
    {
     "name": "stdout",
     "output_type": "stream",
     "text": [
      "우정은 돌아오는거야.\n"
     ]
    }
   ],
   "source": [
    "b = a.replace(\"사랑\", \"우정\")\n",
    "print(b)"
   ]
  },
  {
   "cell_type": "markdown",
   "metadata": {},
   "source": [
    "## 문자열 . split( \" 기준  \" ) "
   ]
  },
  {
   "cell_type": "code",
   "execution_count": 61,
   "metadata": {},
   "outputs": [],
   "source": [
    "scores = \"10:20:50:80:88\"\n",
    "quotes = \"I am a boy. you are a girl.\""
   ]
  },
  {
   "cell_type": "code",
   "execution_count": 62,
   "metadata": {},
   "outputs": [],
   "source": [
    "scores = \"10:20:50:80:88\"\n",
    "quotes = \"I am a boy. you are a girl.\""
   ]
  },
  {
   "cell_type": "code",
   "execution_count": 64,
   "metadata": {
    "scrolled": true
   },
   "outputs": [
    {
     "name": "stdout",
     "output_type": "stream",
     "text": [
      "['10', '20', '50', '80', '88']\n",
      "<class 'list'>\n"
     ]
    }
   ],
   "source": [
    "score = scores.split(\":\") # \" : \"로 나누세요..!!\n",
    "print(score)\n",
    "print(type(score))"
   ]
  },
  {
   "cell_type": "markdown",
   "metadata": {},
   "source": [
    "### split 되어서 나온 것은, \"리스트\"형태로 반환된다."
   ]
  },
  {
   "cell_type": "code",
   "execution_count": 65,
   "metadata": {},
   "outputs": [
    {
     "name": "stdout",
     "output_type": "stream",
     "text": [
      "['10', '20', '50', '80', '88']\n",
      "<class 'list'>\n"
     ]
    }
   ],
   "source": [
    "score = scores.split(\":\")\n",
    "print(score)\n",
    "print(type(score))"
   ]
  },
  {
   "cell_type": "code",
   "execution_count": 66,
   "metadata": {},
   "outputs": [
    {
     "name": "stdout",
     "output_type": "stream",
     "text": [
      "['I', 'am', 'a', 'boy.', 'you', 'are', 'a', 'girl.']\n",
      "<class 'list'>\n"
     ]
    }
   ],
   "source": [
    "quote = quotes.split(' ')\n",
    "print(quote)\n",
    "print(type(quote))"
   ]
  },
  {
   "cell_type": "code",
   "execution_count": 67,
   "metadata": {},
   "outputs": [
    {
     "name": "stdout",
     "output_type": "stream",
     "text": [
      "['I', 'am', 'a', 'boy.', 'you', 'are', 'a', 'girl.']\n",
      "True\n"
     ]
    }
   ],
   "source": [
    "quote2 = quotes.split()\n",
    "print(quote2)\n",
    "\n",
    "print(quote==quote2)"
   ]
  },
  {
   "cell_type": "markdown",
   "metadata": {},
   "source": [
    "# 리스트  [ '이','것','이','리','스','트']"
   ]
  },
  {
   "cell_type": "code",
   "execution_count": 68,
   "metadata": {},
   "outputs": [
    {
     "name": "stdout",
     "output_type": "stream",
     "text": [
      "<class 'list'>\n",
      "['apple', 'grape', 'banana', 'melon', 'orange']\n"
     ]
    }
   ],
   "source": [
    "fruits = ['apple', 'grape', 'banana', 'melon', 'orange']\n",
    "print(type(fruits))\n",
    "print(fruits)"
   ]
  },
  {
   "cell_type": "code",
   "execution_count": 69,
   "metadata": {},
   "outputs": [
    {
     "data": {
      "text/plain": [
       "5"
      ]
     },
     "execution_count": 69,
     "metadata": {},
     "output_type": "execute_result"
    }
   ],
   "source": [
    "len(fruits)"
   ]
  },
  {
   "cell_type": "markdown",
   "metadata": {},
   "source": [
    "### index 로 접근하기"
   ]
  },
  {
   "cell_type": "code",
   "execution_count": 70,
   "metadata": {},
   "outputs": [
    {
     "name": "stdout",
     "output_type": "stream",
     "text": [
      "apple\n",
      "grape\n",
      "banana\n",
      "melon\n",
      "orange\n"
     ]
    }
   ],
   "source": [
    "print(fruits[0])\n",
    "print(fruits[1])\n",
    "print(fruits[2])\n",
    "print(fruits[3])\n",
    "print(fruits[4])"
   ]
  },
  {
   "cell_type": "code",
   "execution_count": 71,
   "metadata": {},
   "outputs": [
    {
     "name": "stdout",
     "output_type": "stream",
     "text": [
      "<class 'str'>\n"
     ]
    }
   ],
   "source": [
    "print(type(fruits[0]))"
   ]
  },
  {
   "cell_type": "code",
   "execution_count": 72,
   "metadata": {},
   "outputs": [
    {
     "name": "stdout",
     "output_type": "stream",
     "text": [
      "orange\n",
      "melon\n",
      "banana\n",
      "grape\n",
      "apple\n"
     ]
    }
   ],
   "source": [
    "print(fruits[-1])\n",
    "print(fruits[-2])\n",
    "print(fruits[-3])\n",
    "print(fruits[-4])\n",
    "print(fruits[-5])"
   ]
  },
  {
   "cell_type": "code",
   "execution_count": 74,
   "metadata": {},
   "outputs": [
    {
     "name": "stdout",
     "output_type": "stream",
     "text": [
      "['apple', 'grape', 'banana']\n",
      "['melon', 'orange']\n"
     ]
    }
   ],
   "source": [
    "print(fruits[:3])\n",
    "print(fruits[3:]) # 3 에 있는 값부터 끝까지 인쇄"
   ]
  },
  {
   "cell_type": "markdown",
   "metadata": {},
   "source": [
    "### 중첩 리스트"
   ]
  },
  {
   "cell_type": "code",
   "execution_count": 75,
   "metadata": {},
   "outputs": [
    {
     "name": "stdout",
     "output_type": "stream",
     "text": [
      "[1, 2, 3, [1.0, 2.0, 3.0, ['a', 'b', 'c']]]\n"
     ]
    }
   ],
   "source": [
    "a = [1,2,3, [1.0, 2.0, 3.0, ['a','b','c']]]\n",
    "print(a)\n"
   ]
  },
  {
   "cell_type": "code",
   "execution_count": 76,
   "metadata": {},
   "outputs": [
    {
     "name": "stdout",
     "output_type": "stream",
     "text": [
      "4\n"
     ]
    }
   ],
   "source": [
    "print(len(a))"
   ]
  },
  {
   "cell_type": "code",
   "execution_count": 77,
   "metadata": {},
   "outputs": [
    {
     "name": "stdout",
     "output_type": "stream",
     "text": [
      "[1.0, 2.0, 3.0, ['a', 'b', 'c']]\n",
      "['a', 'b', 'c']\n"
     ]
    }
   ],
   "source": [
    "print(a[3])\n",
    "print(a[3][3])"
   ]
  },
  {
   "cell_type": "markdown",
   "metadata": {},
   "source": [
    "### 리스트 연산"
   ]
  },
  {
   "cell_type": "code",
   "execution_count": 78,
   "metadata": {},
   "outputs": [
    {
     "name": "stdout",
     "output_type": "stream",
     "text": [
      "[1, 2, 3, 'a', 'b', 'c']\n",
      "[1, 2, 3, 1, 2, 3]\n",
      "['a', 'b', 'c', 'a', 'b', 'c', 'a', 'b', 'c', 'a', 'b', 'c', 'a', 'b', 'c']\n"
     ]
    }
   ],
   "source": [
    "a = [1, 2, 3]\n",
    "b = ['a', 'b', 'c']\n",
    "print(a+b)\n",
    "print(a*2)\n",
    "print(b*5)\n"
   ]
  },
  {
   "cell_type": "markdown",
   "metadata": {},
   "source": [
    "#### 리스트 값 수정"
   ]
  },
  {
   "cell_type": "code",
   "execution_count": 79,
   "metadata": {},
   "outputs": [
    {
     "name": "stdout",
     "output_type": "stream",
     "text": [
      "[1, 2, 3]\n"
     ]
    }
   ],
   "source": [
    "a = [1, 2, 3]\n",
    "print(a)"
   ]
  },
  {
   "cell_type": "code",
   "execution_count": 80,
   "metadata": {},
   "outputs": [
    {
     "name": "stdout",
     "output_type": "stream",
     "text": [
      "[1, 'b', 3]\n"
     ]
    }
   ],
   "source": [
    "a[1] = 'b'\n",
    "print(a)"
   ]
  },
  {
   "cell_type": "code",
   "execution_count": 82,
   "metadata": {},
   "outputs": [
    {
     "name": "stdout",
     "output_type": "stream",
     "text": [
      "[1]\n"
     ]
    }
   ],
   "source": [
    "del a[1]\n",
    "print(a)"
   ]
  },
  {
   "cell_type": "markdown",
   "metadata": {},
   "source": [
    "## 리스트 관련 함수 : append, sort , reverse, index, insert, remove, pop, count, extend , join !(String)"
   ]
  },
  {
   "cell_type": "markdown",
   "metadata": {},
   "source": [
    "## 리스트 . append  ( '추가' )  :   맨 뒤에 붙음 "
   ]
  },
  {
   "cell_type": "code",
   "execution_count": 83,
   "metadata": {},
   "outputs": [
    {
     "name": "stdout",
     "output_type": "stream",
     "text": [
      "[1, 2, 3, 4]\n"
     ]
    }
   ],
   "source": [
    "a = [1, 2, 3]\n",
    "a.append(4)\n",
    "print(a)"
   ]
  },
  {
   "cell_type": "code",
   "execution_count": 84,
   "metadata": {},
   "outputs": [
    {
     "name": "stdout",
     "output_type": "stream",
     "text": [
      "[1, 2, 3, 4, 'hello python']\n"
     ]
    }
   ],
   "source": [
    "a.append('hello python')\n",
    "print(a)"
   ]
  },
  {
   "cell_type": "code",
   "execution_count": 94,
   "metadata": {},
   "outputs": [
    {
     "name": "stdout",
     "output_type": "stream",
     "text": [
      "[1, 2, 3, 4, 5, [1, 2]]\n"
     ]
    }
   ],
   "source": [
    "a.append([1,2]) #리스트 형태도 괜찮음.\n",
    "print(a)"
   ]
  },
  {
   "cell_type": "markdown",
   "metadata": {},
   "source": [
    "## 리스트 .  sort ()"
   ]
  },
  {
   "cell_type": "code",
   "execution_count": 87,
   "metadata": {},
   "outputs": [
    {
     "name": "stdout",
     "output_type": "stream",
     "text": [
      "[1, 3, 5, 2, 4]\n"
     ]
    }
   ],
   "source": [
    "a = [1, 3, 5, 2, 4]\n",
    "print(a)"
   ]
  },
  {
   "cell_type": "code",
   "execution_count": 93,
   "metadata": {
    "scrolled": true
   },
   "outputs": [
    {
     "name": "stdout",
     "output_type": "stream",
     "text": [
      "[1, 2, 3, 4, 5]\n"
     ]
    }
   ],
   "source": [
    "a.sort()\n",
    "print(a)"
   ]
  },
  {
   "cell_type": "markdown",
   "metadata": {},
   "source": [
    "### 리스트 . sort ( reverse = True ) :   거꾸로 해준다!!"
   ]
  },
  {
   "cell_type": "code",
   "execution_count": 92,
   "metadata": {},
   "outputs": [
    {
     "name": "stdout",
     "output_type": "stream",
     "text": [
      "[5, 4, 3, 2, 1]\n"
     ]
    }
   ],
   "source": [
    "a.sort(reverse=True)\n",
    "print(a)"
   ]
  },
  {
   "cell_type": "markdown",
   "metadata": {},
   "source": [
    "## 리스트 . reverse( )  :거꾸로 순서뒤집어줌"
   ]
  },
  {
   "cell_type": "code",
   "execution_count": 90,
   "metadata": {},
   "outputs": [
    {
     "name": "stdout",
     "output_type": "stream",
     "text": [
      "[5, 3, 2, 1, 4]\n"
     ]
    }
   ],
   "source": [
    "a = [5,3,2,1,4]\n",
    "print(a)"
   ]
  },
  {
   "cell_type": "code",
   "execution_count": 91,
   "metadata": {},
   "outputs": [
    {
     "name": "stdout",
     "output_type": "stream",
     "text": [
      "[4, 1, 2, 3, 5]\n"
     ]
    }
   ],
   "source": [
    "a.reverse()\n",
    "print(a)"
   ]
  },
  {
   "cell_type": "markdown",
   "metadata": {},
   "source": [
    "##  리스트 . index ( 'a ' )"
   ]
  },
  {
   "cell_type": "code",
   "execution_count": 95,
   "metadata": {},
   "outputs": [
    {
     "name": "stdout",
     "output_type": "stream",
     "text": [
      "['a', 'b', 'c', 'd']\n"
     ]
    }
   ],
   "source": [
    "a = ['a', 'b', 'c', 'd']\n",
    "print(a)"
   ]
  },
  {
   "cell_type": "code",
   "execution_count": 97,
   "metadata": {},
   "outputs": [
    {
     "data": {
      "text/plain": [
       "1"
      ]
     },
     "execution_count": 97,
     "metadata": {},
     "output_type": "execute_result"
    }
   ],
   "source": [
    "a.index('b')"
   ]
  },
  {
   "cell_type": "markdown",
   "metadata": {},
   "source": [
    "## 리스트 . insert (  인덱스값, '문자')"
   ]
  },
  {
   "cell_type": "code",
   "execution_count": 98,
   "metadata": {},
   "outputs": [
    {
     "name": "stdout",
     "output_type": "stream",
     "text": [
      "[1, 'a', 2, 3, 4, 5]\n"
     ]
    }
   ],
   "source": [
    "a = [1, 2, 3, 4, 5]\n",
    "a.insert(1,'a')\n",
    "print(a)"
   ]
  },
  {
   "cell_type": "code",
   "execution_count": 99,
   "metadata": {},
   "outputs": [
    {
     "name": "stdout",
     "output_type": "stream",
     "text": [
      "['b', 1, 'a', 2, 3, 4, 5]\n"
     ]
    }
   ],
   "source": [
    "a.insert(0,'b')\n",
    "print(a)"
   ]
  },
  {
   "cell_type": "markdown",
   "metadata": {},
   "source": [
    "## 리스트 . remove ( 지우려는숫자)"
   ]
  },
  {
   "cell_type": "code",
   "execution_count": 101,
   "metadata": {},
   "outputs": [
    {
     "name": "stdout",
     "output_type": "stream",
     "text": [
      "[2, 3, 4, 5, 6]\n"
     ]
    }
   ],
   "source": [
    "a = [1, 2, 3, 4, 5, 6]\n",
    "a.remove(1)\n",
    "print(a)"
   ]
  },
  {
   "cell_type": "markdown",
   "metadata": {},
   "source": [
    "## 리스트 . pop ( 지우려는 인덱스)"
   ]
  },
  {
   "cell_type": "code",
   "execution_count": 102,
   "metadata": {},
   "outputs": [
    {
     "name": "stdout",
     "output_type": "stream",
     "text": [
      "3\n",
      "[1, 2, 4]\n"
     ]
    }
   ],
   "source": [
    "a = [1, 2, 3, 4]\n",
    "b= a.pop(2)\n",
    "print(b)\n",
    "print(a)"
   ]
  },
  {
   "cell_type": "markdown",
   "metadata": {},
   "source": [
    "## 리스트 . count ( 몇개인지 세고싶은것 )"
   ]
  },
  {
   "cell_type": "code",
   "execution_count": 103,
   "metadata": {},
   "outputs": [
    {
     "name": "stdout",
     "output_type": "stream",
     "text": [
      "4\n",
      "1\n"
     ]
    }
   ],
   "source": [
    "a = [1, 2, 3, 4, 1, 1, 1]\n",
    "print(a.count(1))\n",
    "print(a.count(2))"
   ]
  },
  {
   "cell_type": "markdown",
   "metadata": {},
   "source": [
    "## 리스트 . extend ( 리스트 )"
   ]
  },
  {
   "cell_type": "code",
   "execution_count": 104,
   "metadata": {},
   "outputs": [
    {
     "name": "stdout",
     "output_type": "stream",
     "text": [
      "[1, 2, 3, 'a', 'b', 'c']\n"
     ]
    }
   ],
   "source": [
    "a = [1,2,3]\n",
    "b = ['a','b','c']\n",
    "\n",
    "a.extend(b)\n",
    "print(a)"
   ]
  },
  {
   "cell_type": "markdown",
   "metadata": {},
   "source": [
    "## 리스트 . join ( 리스트 )"
   ]
  },
  {
   "cell_type": "code",
   "execution_count": 105,
   "metadata": {},
   "outputs": [
    {
     "name": "stdout",
     "output_type": "stream",
     "text": [
      "apple, banana, grape\n",
      "<class 'str'>\n"
     ]
    }
   ],
   "source": [
    "fruit_list = ['apple', 'banana', 'grape']\n",
    "\n",
    "fruits = ', '.join(fruit_list)\n",
    "print(fruits)\n",
    "print(type(fruits))"
   ]
  },
  {
   "cell_type": "markdown",
   "metadata": {},
   "source": [
    "#  튜플 - ( Tuple )"
   ]
  },
  {
   "cell_type": "code",
   "execution_count": 106,
   "metadata": {},
   "outputs": [
    {
     "name": "stdout",
     "output_type": "stream",
     "text": [
      "(1, 2, 3)\n",
      "<class 'tuple'>\n",
      "('a', 'b', 'c')\n",
      "<class 'tuple'>\n"
     ]
    }
   ],
   "source": [
    "a = (1, 2, 3)\n",
    "b = ('a', 'b', 'c')\n",
    "\n",
    "print(a)\n",
    "print(type(a))\n",
    "\n",
    "print(b)\n",
    "print(type(b))"
   ]
  },
  {
   "cell_type": "code",
   "execution_count": null,
   "metadata": {},
   "outputs": [],
   "source": []
  }
 ],
 "metadata": {
  "kernelspec": {
   "display_name": "Python 3",
   "language": "python",
   "name": "python3"
  },
  "language_info": {
   "codemirror_mode": {
    "name": "ipython",
    "version": 3
   },
   "file_extension": ".py",
   "mimetype": "text/x-python",
   "name": "python",
   "nbconvert_exporter": "python",
   "pygments_lexer": "ipython3",
   "version": "3.7.3"
  }
 },
 "nbformat": 4,
 "nbformat_minor": 2
}
